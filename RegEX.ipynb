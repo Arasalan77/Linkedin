{
 "cells": [
  {
   "cell_type": "markdown",
   "metadata": {},
   "source": [
    "# RegEx (Regular Expression)\n",
    "### Arasalan Shaikh\n",
    "### Linkedin : https://www.linkedin.com/in/arasalanshaikh/\n",
    "### Credits: W3School for questions"
   ]
  },
  {
   "cell_type": "code",
   "execution_count": 1,
   "metadata": {},
   "outputs": [],
   "source": [
    "import re"
   ]
  },
  {
   "cell_type": "code",
   "execution_count": 3,
   "metadata": {},
   "outputs": [],
   "source": [
    "test_string = \"123abc456789abc123ABC\""
   ]
  },
  {
   "cell_type": "code",
   "execution_count": 4,
   "metadata": {},
   "outputs": [
    {
     "name": "stdout",
     "output_type": "stream",
     "text": [
      "<re.Match object; span=(3, 6), match='abc'>\n",
      "<re.Match object; span=(12, 15), match='abc'>\n"
     ]
    }
   ],
   "source": [
    "# finditer() method gives match object\n",
    "pattern = re.compile(r\"abc\")\n",
    "matches = pattern.finditer(test_string)\n",
    "\n",
    "for match in matches:\n",
    "    print(match)"
   ]
  },
  {
   "cell_type": "code",
   "execution_count": 5,
   "metadata": {},
   "outputs": [
    {
     "name": "stdout",
     "output_type": "stream",
     "text": [
      "<re.Match object; span=(3, 6), match='abc'>\n",
      "<re.Match object; span=(12, 15), match='abc'>\n"
     ]
    }
   ],
   "source": [
    "# or can also be done in following way\n",
    "\n",
    "matches = re.finditer(r\"abc\", test_string)\n",
    "for match in matches:\n",
    "    print(match)"
   ]
  },
  {
   "cell_type": "code",
   "execution_count": 6,
   "metadata": {},
   "outputs": [
    {
     "name": "stdout",
     "output_type": "stream",
     "text": [
      "abc\n",
      "abc\n"
     ]
    }
   ],
   "source": [
    "# findall() method gives all matching strings\n",
    "\n",
    "matches = re.findall(r\"abc\", test_string)\n",
    "for match in matches:\n",
    "    print(match)"
   ]
  },
  {
   "cell_type": "code",
   "execution_count": 8,
   "metadata": {},
   "outputs": [
    {
     "name": "stdout",
     "output_type": "stream",
     "text": [
      "None\n"
     ]
    }
   ],
   "source": [
    "# match() method gives first match at the begining of string\n",
    "\n",
    "match = re.match(r\"abc\", test_string)\n",
    "print(match)"
   ]
  },
  {
   "cell_type": "code",
   "execution_count": 9,
   "metadata": {},
   "outputs": [
    {
     "name": "stdout",
     "output_type": "stream",
     "text": [
      "<re.Match object; span=(0, 3), match='123'>\n"
     ]
    }
   ],
   "source": [
    "match = re.match(r\"123\", test_string)\n",
    "print(match)"
   ]
  },
  {
   "cell_type": "markdown",
   "metadata": {},
   "source": [
    "## Method on a Match object\n",
    "##### 1. group() : Returns the string matched by the RE\n",
    "##### 2. start() : Returns the starting position of the match\n",
    "##### 3. end() : Return the ending position of the match\n",
    "##### 4. span() : Return a tuple containing the (start, end) positions of the match"
   ]
  },
  {
   "cell_type": "code",
   "execution_count": 10,
   "metadata": {},
   "outputs": [
    {
     "name": "stdout",
     "output_type": "stream",
     "text": [
      "(3, 6) 3 6\n",
      "(12, 15) 12 15\n"
     ]
    }
   ],
   "source": [
    "# moving forward with finditer() method\n",
    "pattern = re.compile(r\"abc\")\n",
    "matches = pattern.finditer(test_string)\n",
    "\n",
    "for match in matches:\n",
    "    print(match.span(), match.start(), match.end())\n",
    "    \n",
    "# group, start, end, span method"
   ]
  },
  {
   "cell_type": "code",
   "execution_count": 11,
   "metadata": {},
   "outputs": [
    {
     "name": "stdout",
     "output_type": "stream",
     "text": [
      "abc\n",
      "abc\n"
     ]
    }
   ],
   "source": [
    "pattern = re.compile(r\"abc\")\n",
    "matches = pattern.finditer(test_string)\n",
    "\n",
    "for match in matches:\n",
    "    print(match.group())"
   ]
  },
  {
   "cell_type": "raw",
   "metadata": {},
   "source": [
    "All meta characters . ^ $ * + ? { } \\ | ( )\n",
    "Note : Meta characters need to be escaped (with) if we actually want to search for the char.\n",
    "1. . any character (except new line charachter)\n",
    "2. ^ startswith \"^hello\"\n",
    "3. $ endswith \"world$\"\n",
    "4. * zero or more occurances\n",
    "5. + one or more occurances\n",
    "6. {} excactly specified no. of occurances \"al{2}\"\n",
    "7. [] A set of characters \"[a-m]\"\n",
    "8. \\ Signals a special sequence (can also be ised to escape special characters) \"\\d\"\n",
    "9. | Either or  \"falls|stays\"\n",
    "10. () Capture and group\n",
    "\n",
    "More Metacharacters / Special Sequences\n",
    "A special sequence is a \\ followed by one of the charachters in the list below and has a special meaning:\n",
    "1. \\d : Matches any decimal digit; this is equivalent to the class [0-9]\n",
    "2. \\D : Matches any non-digit character, this is equivalent to the class [^0-9]\n",
    "3. \\s : Matches any whitespace character\n",
    "4. \\S : Matches any non-whitespace character\n",
    "5. \\w : Matches any alphanumeric (word) character; this is equivalent to the class [a-zA-z0-9_]\n",
    "6. \\W : Matches any non-alphanaumeric character; this is equivalent to the class [^a-zA-Z0-9_]\n",
    "7. \\b : Return a match where the specified character are at the beginning or at the end of a word r\"\\bain\"r\"ain\\b\"\n",
    "8. \\B : Retrun a match where the specified charaters are present, but NOT at the beginning (or at the end) of a word r\"\\Bain\" r\"ain\\B\"\n",
    "9. \\A : Return a match if the specified characters are at the beginning of the string \"\\AThe\"\n",
    "10. \\Z : Return a match if the specified characters are at the end of the string \"Spain\\Z\""
   ]
  },
  {
   "cell_type": "code",
   "execution_count": 14,
   "metadata": {},
   "outputs": [
    {
     "name": "stdout",
     "output_type": "stream",
     "text": [
      "1 2 3 a b c 4 5 6 7 8 9 a b c 1 2 3 A B C "
     ]
    }
   ],
   "source": [
    "pattern = re.compile(r\".\")\n",
    "matches = pattern.finditer(test_string)\n",
    "\n",
    "for match in matches:\n",
    "    print(match.group(), end = \" \")"
   ]
  },
  {
   "cell_type": "code",
   "execution_count": 15,
   "metadata": {},
   "outputs": [
    {
     "name": "stdout",
     "output_type": "stream",
     "text": [
      "<re.Match object; span=(21, 22), match='.'>\n"
     ]
    }
   ],
   "source": [
    "test_string1 = \"123abc456789abc123ABC.\"\n",
    "\n",
    "pattern = re.compile(r\"\\.\")\n",
    "matches = pattern.finditer(test_string1)\n",
    "\n",
    "for match in matches:\n",
    "    print(match)"
   ]
  },
  {
   "cell_type": "code",
   "execution_count": 17,
   "metadata": {},
   "outputs": [
    {
     "name": "stdout",
     "output_type": "stream",
     "text": [
      "<re.Match object; span=(0, 3), match='123'>\n"
     ]
    }
   ],
   "source": [
    "test_string = \"123abc456789abc123ABC\"\n",
    "pattern = re.compile(r\"^123\")\n",
    "matches = pattern.finditer(test_string)\n",
    "\n",
    "for match in matches:\n",
    "    print(match)"
   ]
  },
  {
   "cell_type": "code",
   "execution_count": 19,
   "metadata": {},
   "outputs": [],
   "source": [
    "pattern = re.compile(r\"^abc\")\n",
    "matches = pattern.finditer(test_string)\n",
    "\n",
    "for match in matches:\n",
    "    print(match)\n",
    "# No Match"
   ]
  },
  {
   "cell_type": "code",
   "execution_count": 20,
   "metadata": {},
   "outputs": [],
   "source": [
    "pattern = re.compile(r\"abc$\")\n",
    "matches = pattern.finditer(test_string)\n",
    "\n",
    "for match in matches:\n",
    "    print(match)\n",
    "    \n",
    "# No Match"
   ]
  },
  {
   "cell_type": "code",
   "execution_count": 21,
   "metadata": {},
   "outputs": [
    {
     "name": "stdout",
     "output_type": "stream",
     "text": [
      "<re.Match object; span=(18, 21), match='ABC'>\n"
     ]
    }
   ],
   "source": [
    "pattern = re.compile(r\"ABC$\")\n",
    "matches = pattern.finditer(test_string)\n",
    "\n",
    "for match in matches:\n",
    "    print(match)"
   ]
  },
  {
   "cell_type": "code",
   "execution_count": 22,
   "metadata": {},
   "outputs": [],
   "source": [
    "test_string2 = \"hello 123_ heyho hohey\""
   ]
  },
  {
   "cell_type": "code",
   "execution_count": 24,
   "metadata": {},
   "outputs": [
    {
     "name": "stdout",
     "output_type": "stream",
     "text": [
      "<re.Match object; span=(6, 7), match='1'>\n",
      "<re.Match object; span=(7, 8), match='2'>\n",
      "<re.Match object; span=(8, 9), match='3'>\n"
     ]
    }
   ],
   "source": [
    "pattern = re.compile(r\"\\d\")\n",
    "matches = pattern.finditer(test_string2)\n",
    "\n",
    "for match in matches:\n",
    "    print(match)"
   ]
  },
  {
   "cell_type": "code",
   "execution_count": 25,
   "metadata": {},
   "outputs": [
    {
     "name": "stdout",
     "output_type": "stream",
     "text": [
      "<re.Match object; span=(0, 1), match='h'>\n",
      "<re.Match object; span=(1, 2), match='e'>\n",
      "<re.Match object; span=(2, 3), match='l'>\n",
      "<re.Match object; span=(3, 4), match='l'>\n",
      "<re.Match object; span=(4, 5), match='o'>\n",
      "<re.Match object; span=(5, 6), match=' '>\n",
      "<re.Match object; span=(9, 10), match='_'>\n",
      "<re.Match object; span=(10, 11), match=' '>\n",
      "<re.Match object; span=(11, 12), match='h'>\n",
      "<re.Match object; span=(12, 13), match='e'>\n",
      "<re.Match object; span=(13, 14), match='y'>\n",
      "<re.Match object; span=(14, 15), match='h'>\n",
      "<re.Match object; span=(15, 16), match='o'>\n",
      "<re.Match object; span=(16, 17), match=' '>\n",
      "<re.Match object; span=(17, 18), match='h'>\n",
      "<re.Match object; span=(18, 19), match='o'>\n",
      "<re.Match object; span=(19, 20), match='h'>\n",
      "<re.Match object; span=(20, 21), match='e'>\n",
      "<re.Match object; span=(21, 22), match='y'>\n"
     ]
    }
   ],
   "source": [
    "pattern = re.compile(r\"\\D\")\n",
    "matches = pattern.finditer(test_string2)\n",
    "\n",
    "for match in matches:\n",
    "    print(match)"
   ]
  },
  {
   "cell_type": "code",
   "execution_count": 26,
   "metadata": {},
   "outputs": [
    {
     "name": "stdout",
     "output_type": "stream",
     "text": [
      "<re.Match object; span=(5, 6), match=' '>\n",
      "<re.Match object; span=(10, 11), match=' '>\n",
      "<re.Match object; span=(16, 17), match=' '>\n"
     ]
    }
   ],
   "source": [
    "pattern = re.compile(r\"\\s\")\n",
    "matches = pattern.finditer(test_string2)\n",
    "\n",
    "for match in matches:\n",
    "    print(match)"
   ]
  },
  {
   "cell_type": "code",
   "execution_count": 28,
   "metadata": {},
   "outputs": [
    {
     "name": "stdout",
     "output_type": "stream",
     "text": [
      "<re.Match object; span=(0, 1), match='h'>\n",
      "<re.Match object; span=(1, 2), match='e'>\n",
      "<re.Match object; span=(2, 3), match='l'>\n",
      "<re.Match object; span=(3, 4), match='l'>\n",
      "<re.Match object; span=(4, 5), match='o'>\n",
      "<re.Match object; span=(6, 7), match='1'>\n",
      "<re.Match object; span=(7, 8), match='2'>\n",
      "<re.Match object; span=(8, 9), match='3'>\n",
      "<re.Match object; span=(9, 10), match='_'>\n",
      "<re.Match object; span=(11, 12), match='h'>\n",
      "<re.Match object; span=(12, 13), match='e'>\n",
      "<re.Match object; span=(13, 14), match='y'>\n",
      "<re.Match object; span=(14, 15), match='h'>\n",
      "<re.Match object; span=(15, 16), match='o'>\n",
      "<re.Match object; span=(17, 18), match='h'>\n",
      "<re.Match object; span=(18, 19), match='o'>\n",
      "<re.Match object; span=(19, 20), match='h'>\n",
      "<re.Match object; span=(20, 21), match='e'>\n",
      "<re.Match object; span=(21, 22), match='y'>\n"
     ]
    }
   ],
   "source": [
    "pattern = re.compile(r\"\\S\")\n",
    "matches = pattern.finditer(test_string2)\n",
    "\n",
    "for match in matches:\n",
    "    print(match)"
   ]
  },
  {
   "cell_type": "code",
   "execution_count": 29,
   "metadata": {},
   "outputs": [
    {
     "name": "stdout",
     "output_type": "stream",
     "text": [
      "<re.Match object; span=(0, 1), match='h'>\n",
      "<re.Match object; span=(1, 2), match='e'>\n",
      "<re.Match object; span=(2, 3), match='l'>\n",
      "<re.Match object; span=(3, 4), match='l'>\n",
      "<re.Match object; span=(4, 5), match='o'>\n",
      "<re.Match object; span=(6, 7), match='1'>\n",
      "<re.Match object; span=(7, 8), match='2'>\n",
      "<re.Match object; span=(8, 9), match='3'>\n",
      "<re.Match object; span=(9, 10), match='_'>\n",
      "<re.Match object; span=(11, 12), match='h'>\n",
      "<re.Match object; span=(12, 13), match='e'>\n",
      "<re.Match object; span=(13, 14), match='y'>\n",
      "<re.Match object; span=(14, 15), match='h'>\n",
      "<re.Match object; span=(15, 16), match='o'>\n",
      "<re.Match object; span=(17, 18), match='h'>\n",
      "<re.Match object; span=(18, 19), match='o'>\n",
      "<re.Match object; span=(19, 20), match='h'>\n",
      "<re.Match object; span=(20, 21), match='e'>\n",
      "<re.Match object; span=(21, 22), match='y'>\n"
     ]
    }
   ],
   "source": [
    "pattern = re.compile(r\"\\w\")\n",
    "matches = pattern.finditer(test_string2)\n",
    "\n",
    "for match in matches:\n",
    "    print(match)"
   ]
  },
  {
   "cell_type": "code",
   "execution_count": 30,
   "metadata": {},
   "outputs": [
    {
     "name": "stdout",
     "output_type": "stream",
     "text": [
      "<re.Match object; span=(5, 6), match=' '>\n",
      "<re.Match object; span=(10, 11), match=' '>\n",
      "<re.Match object; span=(16, 17), match=' '>\n"
     ]
    }
   ],
   "source": [
    "pattern = re.compile(r\"\\W\")\n",
    "matches = pattern.finditer(test_string2)\n",
    "\n",
    "for match in matches:\n",
    "    print(match)"
   ]
  },
  {
   "cell_type": "code",
   "execution_count": 31,
   "metadata": {},
   "outputs": [
    {
     "name": "stdout",
     "output_type": "stream",
     "text": [
      "<re.Match object; span=(0, 5), match='hello'>\n"
     ]
    }
   ],
   "source": [
    "pattern = re.compile(r\"\\bhello\")\n",
    "matches = pattern.finditer(test_string2)\n",
    "\n",
    "for match in matches:\n",
    "    print(match)"
   ]
  },
  {
   "cell_type": "code",
   "execution_count": 32,
   "metadata": {},
   "outputs": [
    {
     "name": "stdout",
     "output_type": "stream",
     "text": [
      "<re.Match object; span=(11, 14), match='hey'>\n"
     ]
    }
   ],
   "source": [
    "pattern = re.compile(r\"\\bhey\")\n",
    "matches = pattern.finditer(test_string2)\n",
    "\n",
    "for match in matches:\n",
    "    print(match)"
   ]
  },
  {
   "cell_type": "code",
   "execution_count": 33,
   "metadata": {},
   "outputs": [
    {
     "name": "stdout",
     "output_type": "stream",
     "text": [
      "<re.Match object; span=(19, 22), match='hey'>\n"
     ]
    }
   ],
   "source": [
    "pattern = re.compile(r\"\\Bhey\")\n",
    "matches = pattern.finditer(test_string2)\n",
    "\n",
    "for match in matches:\n",
    "    print(match)"
   ]
  },
  {
   "cell_type": "markdown",
   "metadata": {},
   "source": [
    "## Sets"
   ]
  },
  {
   "cell_type": "raw",
   "metadata": {},
   "source": [
    "1. A set is a set of characters inside a pair of square brackets [] with a special meaning. Append multiple conditions backto back, e.g. [aA-Z].\n",
    "2. A ^ (caret) inside a set negates the expression.\n",
    "3. A - (dash) in a set specifies a range if it is in between, otherwise the dash itself.\n",
    "Examples:\n",
    "1. [arn] Returns a match where one of the specified characters (a, r, or n) are present\n",
    "2. [a-n] Returns a match for any lower case character, alphabetically between a and n\n",
    "3. [^arn] Returns a match for any character EXCEPT a, r, and n\n",
    "4. [0123] Returns a match where any of the specified digits (0, 1, 2, or 3) are present\n",
    "5. [0-9] Returns a match for any digit between 0 and 9\n",
    "6. 0-5 Returns a match for any two-digit numbers from 00 and 59\n",
    "7. [a-zA-Z] Returns a match for any character alphabetically between a and z, lower case OR upper case"
   ]
  },
  {
   "cell_type": "code",
   "execution_count": 34,
   "metadata": {},
   "outputs": [],
   "source": [
    "test_string3 = \"hello 123_\""
   ]
  },
  {
   "cell_type": "code",
   "execution_count": 35,
   "metadata": {},
   "outputs": [
    {
     "name": "stdout",
     "output_type": "stream",
     "text": [
      "<re.Match object; span=(2, 3), match='l'>\n",
      "<re.Match object; span=(3, 4), match='l'>\n",
      "<re.Match object; span=(4, 5), match='o'>\n"
     ]
    }
   ],
   "source": [
    "pattern = re.compile(r\"[lo]\")\n",
    "matches = pattern.finditer(test_string3)\n",
    "\n",
    "for match in matches:\n",
    "    print(match)"
   ]
  },
  {
   "cell_type": "code",
   "execution_count": 36,
   "metadata": {},
   "outputs": [
    {
     "name": "stdout",
     "output_type": "stream",
     "text": [
      "<re.Match object; span=(0, 1), match='h'>\n",
      "<re.Match object; span=(1, 2), match='e'>\n",
      "<re.Match object; span=(2, 3), match='l'>\n",
      "<re.Match object; span=(3, 4), match='l'>\n",
      "<re.Match object; span=(4, 5), match='o'>\n"
     ]
    }
   ],
   "source": [
    "pattern = re.compile(r\"[a-z]\")\n",
    "matches = pattern.finditer(test_string3)\n",
    "\n",
    "for match in matches:\n",
    "    print(match)"
   ]
  },
  {
   "cell_type": "code",
   "execution_count": 37,
   "metadata": {},
   "outputs": [
    {
     "name": "stdout",
     "output_type": "stream",
     "text": [
      "<re.Match object; span=(7, 8), match='2'>\n",
      "<re.Match object; span=(8, 9), match='3'>\n"
     ]
    }
   ],
   "source": [
    "pattern = re.compile(r\"[23]\")\n",
    "matches = pattern.finditer(test_string3)\n",
    "\n",
    "for match in matches:\n",
    "    print(match)"
   ]
  },
  {
   "cell_type": "code",
   "execution_count": 38,
   "metadata": {},
   "outputs": [
    {
     "name": "stdout",
     "output_type": "stream",
     "text": [
      "<re.Match object; span=(0, 1), match='h'>\n",
      "<re.Match object; span=(1, 2), match='e'>\n",
      "<re.Match object; span=(2, 3), match='l'>\n",
      "<re.Match object; span=(3, 4), match='l'>\n",
      "<re.Match object; span=(4, 5), match='o'>\n",
      "<re.Match object; span=(6, 7), match='1'>\n",
      "<re.Match object; span=(7, 8), match='2'>\n",
      "<re.Match object; span=(8, 9), match='3'>\n",
      "<re.Match object; span=(9, 10), match='_'>\n"
     ]
    }
   ],
   "source": [
    "pattern = re.compile(r\"[0-p]\")\n",
    "matches = pattern.finditer(test_string3)\n",
    "\n",
    "for match in matches:\n",
    "    print(match)"
   ]
  },
  {
   "cell_type": "code",
   "execution_count": 39,
   "metadata": {},
   "outputs": [
    {
     "name": "stdout",
     "output_type": "stream",
     "text": [
      "<re.Match object; span=(6, 7), match='1'>\n",
      "<re.Match object; span=(7, 8), match='2'>\n",
      "<re.Match object; span=(8, 9), match='3'>\n",
      "<re.Match object; span=(9, 10), match='-'>\n"
     ]
    }
   ],
   "source": [
    "pattern = re.compile(r\"[0-9-]\")\n",
    "matches = pattern.finditer(\"hello 123-\")\n",
    "\n",
    "for match in matches:\n",
    "    print(match)"
   ]
  },
  {
   "cell_type": "code",
   "execution_count": 40,
   "metadata": {},
   "outputs": [
    {
     "name": "stdout",
     "output_type": "stream",
     "text": [
      "<re.Match object; span=(0, 1), match='h'>\n",
      "<re.Match object; span=(1, 2), match='e'>\n",
      "<re.Match object; span=(2, 3), match='l'>\n",
      "<re.Match object; span=(3, 4), match='l'>\n",
      "<re.Match object; span=(4, 5), match='o'>\n",
      "<re.Match object; span=(5, 6), match='H'>\n",
      "<re.Match object; span=(6, 7), match='E'>\n",
      "<re.Match object; span=(7, 8), match='L'>\n",
      "<re.Match object; span=(8, 9), match='L'>\n",
      "<re.Match object; span=(9, 10), match='O'>\n",
      "<re.Match object; span=(11, 12), match='1'>\n",
      "<re.Match object; span=(12, 13), match='2'>\n",
      "<re.Match object; span=(13, 14), match='3'>\n"
     ]
    }
   ],
   "source": [
    "pattern = re.compile(r\"[a-zA-Z0-9]\")\n",
    "matches = pattern.finditer(\"helloHELLO 123_\")\n",
    "\n",
    "for match in matches:\n",
    "    print(match)"
   ]
  },
  {
   "cell_type": "markdown",
   "metadata": {},
   "source": [
    "## Quantifier"
   ]
  },
  {
   "cell_type": "raw",
   "metadata": {},
   "source": [
    "1. * : 0 or more\n",
    "2. + : 1 or more\n",
    "3. ? : 0 or 1, used when a character cab be optional\n",
    "4. {4} : exact number\n",
    "5. {4, 6} : range numbers (min, max)"
   ]
  },
  {
   "cell_type": "code",
   "execution_count": 43,
   "metadata": {},
   "outputs": [],
   "source": [
    "test_string4 = \"hello_123\""
   ]
  },
  {
   "cell_type": "code",
   "execution_count": 45,
   "metadata": {},
   "outputs": [
    {
     "name": "stdout",
     "output_type": "stream",
     "text": [
      "<re.Match object; span=(0, 0), match=''>\n",
      "<re.Match object; span=(1, 1), match=''>\n",
      "<re.Match object; span=(2, 2), match=''>\n",
      "<re.Match object; span=(3, 3), match=''>\n",
      "<re.Match object; span=(4, 4), match=''>\n",
      "<re.Match object; span=(5, 5), match=''>\n",
      "<re.Match object; span=(6, 9), match='123'>\n",
      "<re.Match object; span=(9, 9), match=''>\n"
     ]
    }
   ],
   "source": [
    "pattern = re.compile(r\"\\d*\")\n",
    "matches = pattern.finditer(test_string4)\n",
    "\n",
    "for match in matches:\n",
    "    print(match)"
   ]
  },
  {
   "cell_type": "code",
   "execution_count": 46,
   "metadata": {},
   "outputs": [
    {
     "name": "stdout",
     "output_type": "stream",
     "text": [
      "<re.Match object; span=(6, 7), match='1'>\n",
      "<re.Match object; span=(7, 8), match='2'>\n",
      "<re.Match object; span=(8, 9), match='3'>\n"
     ]
    }
   ],
   "source": [
    "pattern = re.compile(r\"\\d\")\n",
    "matches = pattern.finditer(test_string4)\n",
    "\n",
    "for match in matches:\n",
    "    print(match)"
   ]
  },
  {
   "cell_type": "code",
   "execution_count": 55,
   "metadata": {},
   "outputs": [
    {
     "name": "stdout",
     "output_type": "stream",
     "text": [
      "<re.Match object; span=(6, 9), match='123'>\n"
     ]
    }
   ],
   "source": [
    "pattern = re.compile(r\"\\d+\")\n",
    "matches = pattern.finditer(test_string4)\n",
    "\n",
    "for match in matches:\n",
    "    print(match)"
   ]
  },
  {
   "cell_type": "code",
   "execution_count": 56,
   "metadata": {},
   "outputs": [
    {
     "name": "stdout",
     "output_type": "stream",
     "text": [
      "<re.Match object; span=(5, 9), match='_123'>\n"
     ]
    }
   ],
   "source": [
    "pattern = re.compile(r\"_\\d+\")\n",
    "matches = pattern.finditer(test_string4)\n",
    "\n",
    "for match in matches:\n",
    "    print(match)"
   ]
  },
  {
   "cell_type": "code",
   "execution_count": 57,
   "metadata": {},
   "outputs": [],
   "source": [
    "pattern = re.compile(r\"_\\d\")\n",
    "matches = pattern.finditer(\"hello123\")\n",
    "\n",
    "for match in matches:\n",
    "    print(match)"
   ]
  },
  {
   "cell_type": "code",
   "execution_count": 58,
   "metadata": {},
   "outputs": [
    {
     "name": "stdout",
     "output_type": "stream",
     "text": [
      "<re.Match object; span=(5, 6), match='1'>\n",
      "<re.Match object; span=(6, 7), match='2'>\n",
      "<re.Match object; span=(7, 8), match='3'>\n"
     ]
    }
   ],
   "source": [
    "pattern = re.compile(r\"_?\\d\")\n",
    "matches = pattern.finditer(\"hello123\")\n",
    "\n",
    "for match in matches:\n",
    "    print(match)"
   ]
  },
  {
   "cell_type": "code",
   "execution_count": 59,
   "metadata": {},
   "outputs": [
    {
     "name": "stdout",
     "output_type": "stream",
     "text": [
      "<re.Match object; span=(5, 8), match='123'>\n"
     ]
    }
   ],
   "source": [
    "pattern = re.compile(r\"\\d{3}\")\n",
    "matches = pattern.finditer(\"hello123\")\n",
    "\n",
    "for match in matches:\n",
    "    print(match)"
   ]
  },
  {
   "cell_type": "code",
   "execution_count": 60,
   "metadata": {},
   "outputs": [
    {
     "name": "stdout",
     "output_type": "stream",
     "text": [
      "<re.Match object; span=(5, 7), match='12'>\n"
     ]
    }
   ],
   "source": [
    "pattern = re.compile(r\"\\d{2}\")\n",
    "matches = pattern.finditer(\"hello123\")\n",
    "\n",
    "for match in matches:\n",
    "    print(match)"
   ]
  },
  {
   "cell_type": "code",
   "execution_count": 61,
   "metadata": {},
   "outputs": [],
   "source": [
    "pattern = re.compile(r\"\\d{4}\")\n",
    "matches = pattern.finditer(\"hello123\")\n",
    "\n",
    "for match in matches:\n",
    "    print(match)"
   ]
  },
  {
   "cell_type": "code",
   "execution_count": 62,
   "metadata": {},
   "outputs": [],
   "source": [
    "pattern = re.compile(r\"\\d{1, 3}\")\n",
    "matches = pattern.finditer(\"hello123\")\n",
    "\n",
    "for match in matches:\n",
    "    print(match)"
   ]
  },
  {
   "cell_type": "code",
   "execution_count": 63,
   "metadata": {},
   "outputs": [],
   "source": [
    "# task 1\n",
    "\n",
    "dates = \"\"\"\n",
    "hello\n",
    "11.04.2022\n",
    "\n",
    "2022.04.21\n",
    "\n",
    "2022-04-30\n",
    "2022-05-23\n",
    "2022-06-12\n",
    "2022-07-15\n",
    "2022-08-19\n",
    "\n",
    "2022/04/22\n",
    "\n",
    "2022_04_04\n",
    "\"\"\""
   ]
  },
  {
   "cell_type": "code",
   "execution_count": 64,
   "metadata": {},
   "outputs": [
    {
     "name": "stdout",
     "output_type": "stream",
     "text": [
      "<re.Match object; span=(33, 41), match='22-04-30'>\n",
      "<re.Match object; span=(44, 52), match='22-05-23'>\n",
      "<re.Match object; span=(55, 63), match='22-06-12'>\n",
      "<re.Match object; span=(66, 74), match='22-07-15'>\n",
      "<re.Match object; span=(77, 85), match='22-08-19'>\n"
     ]
    }
   ],
   "source": [
    "#1. find all date in this 2020-04-01 format\n",
    "\n",
    "pattern = re.compile(r\"\\d.-\\d.-\\d.\")\n",
    "matches = pattern.finditer(dates)\n",
    "\n",
    "for match in matches:\n",
    "    print(match)"
   ]
  },
  {
   "cell_type": "code",
   "execution_count": 65,
   "metadata": {},
   "outputs": [
    {
     "name": "stdout",
     "output_type": "stream",
     "text": [
      "<re.Match object; span=(31, 41), match='2022-04-30'>\n",
      "<re.Match object; span=(42, 52), match='2022-05-23'>\n",
      "<re.Match object; span=(53, 63), match='2022-06-12'>\n",
      "<re.Match object; span=(64, 74), match='2022-07-15'>\n",
      "<re.Match object; span=(75, 85), match='2022-08-19'>\n"
     ]
    }
   ],
   "source": [
    "pattern = re.compile(r\"\\d\\d\\d\\d-\\d\\d-\\d\\d\")\n",
    "matches = pattern.finditer(dates)\n",
    "\n",
    "for match in matches:\n",
    "    print(match)"
   ]
  },
  {
   "cell_type": "code",
   "execution_count": 66,
   "metadata": {},
   "outputs": [
    {
     "name": "stdout",
     "output_type": "stream",
     "text": [
      "<re.Match object; span=(31, 41), match='2022-04-30'>\n",
      "<re.Match object; span=(42, 52), match='2022-05-23'>\n",
      "<re.Match object; span=(53, 63), match='2022-06-12'>\n",
      "<re.Match object; span=(64, 74), match='2022-07-15'>\n",
      "<re.Match object; span=(75, 85), match='2022-08-19'>\n",
      "<re.Match object; span=(87, 97), match='2022/04/22'>\n"
     ]
    }
   ],
   "source": [
    "#2. find all date in this 2020-04-01 and 2020/04/02 format\n",
    "\n",
    "pattern = re.compile(r\"\\d\\d\\d\\d[-/]\\d\\d[-/]\\d\\d\")\n",
    "matches = pattern.finditer(dates)\n",
    "\n",
    "for match in matches:\n",
    "    print(match)"
   ]
  },
  {
   "cell_type": "code",
   "execution_count": 67,
   "metadata": {},
   "outputs": [
    {
     "name": "stdout",
     "output_type": "stream",
     "text": [
      "<re.Match object; span=(42, 52), match='2022-05-23'>\n",
      "<re.Match object; span=(53, 63), match='2022-06-12'>\n",
      "<re.Match object; span=(64, 74), match='2022-07-15'>\n"
     ]
    }
   ],
   "source": [
    "#3. find all date in may, june, july\n",
    "pattern = re.compile(r\"\\d\\d\\d\\d[-/]0[5-7][-/]\\d{2}\")\n",
    "matches = pattern.finditer(dates)\n",
    "\n",
    "for match in matches:\n",
    "    print(match)"
   ]
  },
  {
   "cell_type": "markdown",
   "metadata": {},
   "source": [
    "## Conditions"
   ]
  },
  {
   "cell_type": "markdown",
   "metadata": {},
   "source": [
    "#### Use the \\| for either or condition"
   ]
  },
  {
   "cell_type": "code",
   "execution_count": 73,
   "metadata": {},
   "outputs": [],
   "source": [
    "my_str = \"\"\"\n",
    "hello world\n",
    "1223\n",
    "2022-05-20\n",
    "Mr Curry\n",
    "Mrs Curry\n",
    "Mr. Thompson\n",
    "Mrs Green\n",
    "Mr. T\n",
    "\"\"\"\n",
    "\n",
    "# Return all names"
   ]
  },
  {
   "cell_type": "code",
   "execution_count": 69,
   "metadata": {},
   "outputs": [
    {
     "name": "stdout",
     "output_type": "stream",
     "text": [
      "<re.Match object; span=(29, 37), match='Mr Curry'>\n"
     ]
    }
   ],
   "source": [
    "pattern = re.compile(r\"Mr\\s\\w+\")\n",
    "matches = pattern.finditer(my_str)\n",
    "\n",
    "for match in matches:\n",
    "    print(match)"
   ]
  },
  {
   "cell_type": "code",
   "execution_count": 70,
   "metadata": {},
   "outputs": [
    {
     "name": "stdout",
     "output_type": "stream",
     "text": [
      "<re.Match object; span=(48, 60), match='Mr. Thompson'>\n",
      "<re.Match object; span=(71, 76), match='Mr. T'>\n"
     ]
    }
   ],
   "source": [
    "pattern = re.compile(r\"Mr\\.\\s\\w+\")  #'\\' is used to treat . as dot\n",
    "matches = pattern.finditer(my_str)\n",
    "\n",
    "for match in matches:\n",
    "    print(match)"
   ]
  },
  {
   "cell_type": "code",
   "execution_count": 71,
   "metadata": {},
   "outputs": [
    {
     "name": "stdout",
     "output_type": "stream",
     "text": [
      "<re.Match object; span=(29, 37), match='Mr Curry'>\n",
      "<re.Match object; span=(48, 60), match='Mr. Thompson'>\n",
      "<re.Match object; span=(71, 76), match='Mr. T'>\n"
     ]
    }
   ],
   "source": [
    "pattern = re.compile(r\"Mr\\.?\\s\\w+\")\n",
    "matches = pattern.finditer(my_str)\n",
    "\n",
    "for match in matches:\n",
    "    print(match)"
   ]
  },
  {
   "cell_type": "code",
   "execution_count": 72,
   "metadata": {},
   "outputs": [
    {
     "name": "stdout",
     "output_type": "stream",
     "text": [
      "<re.Match object; span=(29, 37), match='Mr Curry'>\n",
      "<re.Match object; span=(38, 47), match='Mrs Curry'>\n",
      "<re.Match object; span=(48, 60), match='Mr. Thompson'>\n",
      "<re.Match object; span=(61, 70), match='Mrs Green'>\n",
      "<re.Match object; span=(71, 76), match='Mr. T'>\n"
     ]
    }
   ],
   "source": [
    "pattern = re.compile(r\"(Mr|Ms|Mrs)\\.?\\s\\w+\")\n",
    "matches = pattern.finditer(my_str)\n",
    "\n",
    "for match in matches:\n",
    "    print(match)"
   ]
  },
  {
   "cell_type": "markdown",
   "metadata": {},
   "source": [
    "## Grouping\n",
    "\n",
    "#### ( ) is used to group substrings in the matches."
   ]
  },
  {
   "cell_type": "code",
   "execution_count": 74,
   "metadata": {},
   "outputs": [],
   "source": [
    "emails = \"\"\"\n",
    "hello world\n",
    "1223\n",
    "2022-05-20\n",
    "Mr Curry\n",
    "Mrs Curry\n",
    "Mr. Thompson\n",
    "Mrs Green\n",
    "Mr. T\n",
    "stephencurry@gmail.com\n",
    "Stephen-curry@gsx.de\n",
    "stephen-curry123@my-domain.org\n",
    "\"\"\"\n",
    "# return all emails"
   ]
  },
  {
   "cell_type": "code",
   "execution_count": 78,
   "metadata": {},
   "outputs": [
    {
     "name": "stdout",
     "output_type": "stream",
     "text": [
      "<re.Match object; span=(77, 99), match='stephencurry@gmail.com'>\n",
      "<re.Match object; span=(100, 120), match='Stephen-curry@gsx.de'>\n",
      "<re.Match object; span=(121, 151), match='stephen-curry123@my-domain.org'>\n"
     ]
    }
   ],
   "source": [
    "pattern = re.compile(r\"[a-zA-z)-9-]+@[a-zA-Z-]+\\.(com|de|org)\")\n",
    "matches = pattern.finditer(emails)\n",
    "\n",
    "for match in matches:\n",
    "    print(match)"
   ]
  },
  {
   "cell_type": "code",
   "execution_count": 79,
   "metadata": {},
   "outputs": [
    {
     "name": "stdout",
     "output_type": "stream",
     "text": [
      "<re.Match object; span=(77, 99), match='stephencurry@gmail.com'>\n",
      "<re.Match object; span=(100, 120), match='Stephen-curry@gsx.de'>\n",
      "<re.Match object; span=(121, 151), match='stephen-curry123@my-domain.org'>\n"
     ]
    }
   ],
   "source": [
    "pattern = re.compile(r\"[a-zA-z)-9-]+@[a-zA-Z-]+\\.[a-zA-Z]*\")\n",
    "matches = pattern.finditer(emails)\n",
    "\n",
    "for match in matches:\n",
    "    print(match)"
   ]
  },
  {
   "cell_type": "code",
   "execution_count": 81,
   "metadata": {},
   "outputs": [
    {
     "name": "stdout",
     "output_type": "stream",
     "text": [
      "all groups :  stephencurry@gmail.com\n",
      "first group :  stephencurry\n",
      "second group :  gmail\n",
      "third group :  com\n",
      "all groups :  Stephen-curry@gsx.de\n",
      "first group :  Stephen-curry\n",
      "second group :  gsx\n",
      "third group :  de\n",
      "all groups :  stephen-curry123@my-domain.org\n",
      "first group :  stephen-curry123\n",
      "second group :  my-domain\n",
      "third group :  org\n"
     ]
    }
   ],
   "source": [
    "pattern = re.compile(r\"([a-zA-z0-9-]+)@([a-zA-Z-]+)\\.([a-zA-Z]+)\")\n",
    "matches = pattern.finditer(emails)\n",
    "\n",
    "for match in matches:\n",
    "    print(\"all groups : \", match.group(0)) # this means all groups\n",
    "    print(\"first group : \", match.group(1)) # this means first group\n",
    "    print(\"second group : \", match.group(2)) # this means second group\n",
    "    print(\"third group : \", match.group(3)) # this means third group"
   ]
  },
  {
   "cell_type": "markdown",
   "metadata": {},
   "source": [
    "## Modifying String\n",
    "\n",
    "1. split() : Split the string into a list, splitting it wherever the RE matches\n",
    "2. sub() : Find all substrings where the RE matches, and replace them with a different string"
   ]
  },
  {
   "cell_type": "code",
   "execution_count": 83,
   "metadata": {},
   "outputs": [],
   "source": [
    "my_string = \"123abc456789abc123ABC\""
   ]
  },
  {
   "cell_type": "code",
   "execution_count": 84,
   "metadata": {},
   "outputs": [
    {
     "name": "stdout",
     "output_type": "stream",
     "text": [
      "['123', '456789', '123ABC']\n"
     ]
    }
   ],
   "source": [
    "pattern = re.compile(r\"abc\")\n",
    "splitted = pattern.split(my_string)\n",
    "print(splitted)"
   ]
  },
  {
   "cell_type": "code",
   "execution_count": 85,
   "metadata": {},
   "outputs": [],
   "source": [
    "test_str = \"hello world, you are the best world\""
   ]
  },
  {
   "cell_type": "code",
   "execution_count": 86,
   "metadata": {},
   "outputs": [
    {
     "name": "stdout",
     "output_type": "stream",
     "text": [
      "hello planet, you are the best planet\n"
     ]
    }
   ],
   "source": [
    "pattern = re.compile(r\"world\")\n",
    "subbed_string = pattern.sub(\"planet\", test_str)\n",
    "print(subbed_string)"
   ]
  },
  {
   "cell_type": "code",
   "execution_count": 87,
   "metadata": {},
   "outputs": [],
   "source": [
    "# Task 2\n",
    "urls = \"\"\"\n",
    "http://zara-fashion.com\n",
    "https://www.world-healthorganisation.org\n",
    "https://www.iNeuron.ai\n",
    "\"\"\"\n",
    "\n",
    "# return url"
   ]
  },
  {
   "cell_type": "code",
   "execution_count": 88,
   "metadata": {},
   "outputs": [
    {
     "name": "stdout",
     "output_type": "stream",
     "text": [
      "<re.Match object; span=(1, 24), match='http://zara-fashion.com'>\n",
      "<re.Match object; span=(25, 65), match='https://www.world-healthorganisation.org'>\n",
      "<re.Match object; span=(66, 88), match='https://www.iNeuron.ai'>\n"
     ]
    }
   ],
   "source": [
    "pattern = re.compile(r\"(https?://)(www\\.)?([a-zA-z-]+)\\.[a-zA-Z]+\")\n",
    "matches = pattern.finditer(urls)\n",
    "\n",
    "for match in matches:\n",
    "    print(match)"
   ]
  },
  {
   "cell_type": "code",
   "execution_count": 89,
   "metadata": {},
   "outputs": [
    {
     "name": "stdout",
     "output_type": "stream",
     "text": [
      "<re.Match object; span=(1, 24), match='http://zara-fashion.com'>\n",
      "<re.Match object; span=(25, 65), match='https://www.world-healthorganisation.org'>\n",
      "<re.Match object; span=(66, 88), match='https://www.iNeuron.ai'>\n"
     ]
    }
   ],
   "source": [
    "pattern = re.compile(r\"(https?://)(www\\.)?([a-zA-Z-]+)\\.([a-zA-Z]+)\")\n",
    "matches = pattern.finditer(urls)\n",
    "\n",
    "for match in matches:\n",
    "    print(match)"
   ]
  },
  {
   "cell_type": "code",
   "execution_count": 90,
   "metadata": {},
   "outputs": [
    {
     "name": "stdout",
     "output_type": "stream",
     "text": [
      "zara-fashion\n",
      "world-healthorganisation\n",
      "iNeuron\n"
     ]
    }
   ],
   "source": [
    "pattern = re.compile(r\"https?://(www\\.)?([a-zA-Z-]+)\\.([a-zA-Z]+)\")\n",
    "matches = pattern.finditer(urls)\n",
    "for match in matches:\n",
    "    print(match.group(2))"
   ]
  },
  {
   "cell_type": "code",
   "execution_count": 91,
   "metadata": {},
   "outputs": [
    {
     "name": "stdout",
     "output_type": "stream",
     "text": [
      "\n",
      "hello\n",
      "hello\n",
      "hello\n",
      "\n"
     ]
    }
   ],
   "source": [
    "subbed_url = pattern.sub(\"hello\", urls)\n",
    "print(subbed_url)"
   ]
  },
  {
   "cell_type": "code",
   "execution_count": 92,
   "metadata": {},
   "outputs": [
    {
     "name": "stdout",
     "output_type": "stream",
     "text": [
      "\n",
      "zara-fashioncom\n",
      "world-healthorganisationorg\n",
      "iNeuronai\n",
      "\n"
     ]
    }
   ],
   "source": [
    "subbed_url = pattern.sub(r\"\\2\\3\", urls) #\\2 and \\3 are used for specifying groups\n",
    "print(subbed_url)"
   ]
  },
  {
   "cell_type": "markdown",
   "metadata": {},
   "source": [
    "## Compilation Flags\n",
    "1. ASCII, A : Makes several escapes like \\w, \\b, \\s and \\d match only on ASCII characters with the respective property.\n",
    "2. DOTALL, S : Make . match any character, including newlines.\n",
    "3. IGNORECASE, I : Do case-insensitive matches.\n",
    "4. LOCALE, L : Do a locale-aware match.\n",
    "5. MULTILINE, M : Multi-line matching, affecting ^ and $.\n",
    "6. VERBOSE, X (for ‘extended’) : Enable verbose REs, which can be organized more cleanly and understandably."
   ]
  },
  {
   "cell_type": "code",
   "execution_count": 93,
   "metadata": {},
   "outputs": [],
   "source": [
    "my_string = \"Hello World\"\n",
    "\n",
    "pattern = re.compile(r\"world\")\n",
    "matches = pattern.finditer(my_string)\n",
    "\n",
    "for match in matches:\n",
    "    print(match)\n",
    "\n",
    "# no match # case sensitive"
   ]
  },
  {
   "cell_type": "code",
   "execution_count": 94,
   "metadata": {},
   "outputs": [
    {
     "name": "stdout",
     "output_type": "stream",
     "text": [
      "<re.Match object; span=(6, 11), match='World'>\n"
     ]
    }
   ],
   "source": [
    "my_string = \"Hello World\"\n",
    "\n",
    "pattern = re.compile(r\"world\", re.IGNORECASE) #in place of re.IGNORECASE we can use re.I\n",
    "matches = pattern.finditer(my_string)\n",
    "\n",
    "for match in matches:\n",
    "    print(match)"
   ]
  }
 ],
 "metadata": {
  "kernelspec": {
   "display_name": "Python 3 (ipykernel)",
   "language": "python",
   "name": "python3"
  },
  "language_info": {
   "codemirror_mode": {
    "name": "ipython",
    "version": 3
   },
   "file_extension": ".py",
   "mimetype": "text/x-python",
   "name": "python",
   "nbconvert_exporter": "python",
   "pygments_lexer": "ipython3",
   "version": "3.9.13"
  }
 },
 "nbformat": 4,
 "nbformat_minor": 4
}
