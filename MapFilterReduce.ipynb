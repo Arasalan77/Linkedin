{
 "cells": [
  {
   "cell_type": "markdown",
   "metadata": {},
   "source": [
    "## Questions On map(), filter() and reduce() Function\n",
    "\n",
    "#### Arasalan Shaikh\n",
    "#### Linkedin : https://www.linkedin.com/in/arasalanshaikh/\n",
    "#### W3School for questions"
   ]
  },
  {
   "cell_type": "markdown",
   "metadata": {},
   "source": [
    "#### 1) Write a Python program to triple all numbers of a given list of integers. Use Python map"
   ]
  },
  {
   "cell_type": "code",
   "execution_count": 1,
   "metadata": {},
   "outputs": [
    {
     "data": {
      "text/plain": [
       "[1, 2, 3, 4, 5, 6, 7, 8, 9, 10]"
      ]
     },
     "execution_count": 1,
     "metadata": {},
     "output_type": "execute_result"
    }
   ],
   "source": [
    "list_int = [i for i in range(1, 11)]\n",
    "list_int"
   ]
  },
  {
   "cell_type": "code",
   "execution_count": 2,
   "metadata": {},
   "outputs": [
    {
     "data": {
      "text/plain": [
       "[3, 6, 9, 12, 15, 18, 21, 24, 27, 30]"
      ]
     },
     "execution_count": 2,
     "metadata": {},
     "output_type": "execute_result"
    }
   ],
   "source": [
    "def int_trippler(l):\n",
    "    return list(map(lambda x: x*3, l))\n",
    "\n",
    "int_trippler(list_int)"
   ]
  },
  {
   "cell_type": "markdown",
   "metadata": {},
   "source": [
    "#### 2) Write a Python program to add three given lists using Python map and lambda"
   ]
  },
  {
   "cell_type": "code",
   "execution_count": 3,
   "metadata": {},
   "outputs": [
    {
     "data": {
      "text/plain": [
       "[1, 2, 3, 4, 5, 6, 7, 8, 9]"
      ]
     },
     "execution_count": 3,
     "metadata": {},
     "output_type": "execute_result"
    }
   ],
   "source": [
    "list1 = [i for i in range(1, 10)]\n",
    "list1"
   ]
  },
  {
   "cell_type": "code",
   "execution_count": 4,
   "metadata": {},
   "outputs": [
    {
     "data": {
      "text/plain": [
       "[11, 12, 13, 14, 15, 16, 17, 18, 19]"
      ]
     },
     "execution_count": 4,
     "metadata": {},
     "output_type": "execute_result"
    }
   ],
   "source": [
    "list2 = [i for i in range(11, 20)]\n",
    "list2"
   ]
  },
  {
   "cell_type": "code",
   "execution_count": 5,
   "metadata": {},
   "outputs": [
    {
     "data": {
      "text/plain": [
       "[21, 22, 23, 24, 25, 26, 27, 28, 29]"
      ]
     },
     "execution_count": 5,
     "metadata": {},
     "output_type": "execute_result"
    }
   ],
   "source": [
    "list3 = [i for i in range(21, 30)]\n",
    "list3"
   ]
  },
  {
   "cell_type": "code",
   "execution_count": 6,
   "metadata": {},
   "outputs": [
    {
     "data": {
      "text/plain": [
       "[33, 36, 39, 42, 45, 48, 51, 54, 57]"
      ]
     },
     "execution_count": 6,
     "metadata": {},
     "output_type": "execute_result"
    }
   ],
   "source": [
    "def list_addition(l1, l2, l3):\n",
    "    return list(map(lambda x, y, z: x+y+z, l1, l2, l3))\n",
    "\n",
    "list_addition(list1, list2, list3)"
   ]
  },
  {
   "cell_type": "markdown",
   "metadata": {},
   "source": [
    "#### 3) Write a Python program to create a list containing the power of said number in bases raised to the corresponding number in the index using Python map."
   ]
  },
  {
   "cell_type": "code",
   "execution_count": 7,
   "metadata": {},
   "outputs": [
    {
     "data": {
      "text/plain": [
       "[10, 20, 30, 40, 50, 60, 70, 80, 90, 100]"
      ]
     },
     "execution_count": 7,
     "metadata": {},
     "output_type": "execute_result"
    }
   ],
   "source": [
    "base_list = [i for i in range(10, 101, 10)]\n",
    "base_list"
   ]
  },
  {
   "cell_type": "code",
   "execution_count": 8,
   "metadata": {},
   "outputs": [
    {
     "data": {
      "text/plain": [
       "[1, 2, 3, 4, 5, 6, 7, 8, 9, 10]"
      ]
     },
     "execution_count": 8,
     "metadata": {},
     "output_type": "execute_result"
    }
   ],
   "source": [
    "index_list = [i for i in range(1, 11)]\n",
    "index_list"
   ]
  },
  {
   "cell_type": "code",
   "execution_count": 9,
   "metadata": {},
   "outputs": [
    {
     "data": {
      "text/plain": [
       "[10,\n",
       " 400,\n",
       " 27000,\n",
       " 2560000,\n",
       " 312500000,\n",
       " 46656000000,\n",
       " 8235430000000,\n",
       " 1677721600000000,\n",
       " 387420489000000000,\n",
       " 100000000000000000000]"
      ]
     },
     "execution_count": 9,
     "metadata": {},
     "output_type": "execute_result"
    }
   ],
   "source": [
    "def custom_power(base, index):\n",
    "    return list(map(pow, base, index))\n",
    "                \n",
    "custom_power(base_list, index_list)"
   ]
  },
  {
   "cell_type": "markdown",
   "metadata": {},
   "source": [
    "#### 5) Write a Python program to square the elements of a list using map() function"
   ]
  },
  {
   "cell_type": "code",
   "execution_count": 10,
   "metadata": {},
   "outputs": [
    {
     "data": {
      "text/plain": [
       "[1, 2, 3, 4, 5, 6, 7, 8, 9, 10]"
      ]
     },
     "execution_count": 10,
     "metadata": {},
     "output_type": "execute_result"
    }
   ],
   "source": [
    "list_int = [i for i in range(1, 11)]\n",
    "list_int"
   ]
  },
  {
   "cell_type": "code",
   "execution_count": 11,
   "metadata": {},
   "outputs": [
    {
     "data": {
      "text/plain": [
       "[1, 4, 9, 16, 25, 36, 49, 64, 81, 100]"
      ]
     },
     "execution_count": 11,
     "metadata": {},
     "output_type": "execute_result"
    }
   ],
   "source": [
    "def square_calc(l):\n",
    "    return list(map(lambda x: x ** 2, l))\n",
    "\n",
    "square_calc(list_int)"
   ]
  },
  {
   "cell_type": "markdown",
   "metadata": {},
   "source": [
    "#### 6) Write a python program to convert all the characters in uppercase and lowercase and eliminate duplicate letters also sort list from a given sequence. Use map() function."
   ]
  },
  {
   "cell_type": "code",
   "execution_count": 12,
   "metadata": {},
   "outputs": [
    {
     "data": {
      "text/plain": [
       "[('a', 'A'), ('b', 'B'), ('c', 'C'), ('d', 'D'), ('p', 'P'), ('z', 'Z')]"
      ]
     },
     "execution_count": 12,
     "metadata": {},
     "output_type": "execute_result"
    }
   ],
   "source": [
    "list_char = [\"a\", \"B\", \"c\", \"d\", \"A\", \"P\", \"p\", \"z\"]\n",
    "def case_changer_dup_remover(l):\n",
    "    return sorted(list(set(map(lambda x: (str(x).lower(), str(x).upper()), l))))\n",
    "\n",
    "case_changer_dup_remover(list_char)"
   ]
  },
  {
   "cell_type": "markdown",
   "metadata": {},
   "source": [
    "#### 7) Write a Python program to add two given lists and find the difference between lists. Use map() function"
   ]
  },
  {
   "cell_type": "code",
   "execution_count": 13,
   "metadata": {},
   "outputs": [
    {
     "data": {
      "text/plain": [
       "[1, 2, 3, 4, 5, 6, 7, 8, 9, 10]"
      ]
     },
     "execution_count": 13,
     "metadata": {},
     "output_type": "execute_result"
    }
   ],
   "source": [
    "list1 = [i for i in range(1, 11)]\n",
    "list1"
   ]
  },
  {
   "cell_type": "code",
   "execution_count": 14,
   "metadata": {},
   "outputs": [
    {
     "data": {
      "text/plain": [
       "[10, 11, 12, 13, 14, 15, 16, 17, 18, 19, 20]"
      ]
     },
     "execution_count": 14,
     "metadata": {},
     "output_type": "execute_result"
    }
   ],
   "source": [
    "list2 = [i for i in range(10, 21)]\n",
    "list2"
   ]
  },
  {
   "cell_type": "code",
   "execution_count": 15,
   "metadata": {},
   "outputs": [
    {
     "data": {
      "text/plain": [
       "[(11, 9),\n",
       " (13, 9),\n",
       " (15, 9),\n",
       " (17, 9),\n",
       " (19, 9),\n",
       " (21, 9),\n",
       " (23, 9),\n",
       " (25, 9),\n",
       " (27, 9),\n",
       " (29, 9)]"
      ]
     },
     "execution_count": 15,
     "metadata": {},
     "output_type": "execute_result"
    }
   ],
   "source": [
    "def list_add_sub(l1, l2):\n",
    "    return list(map(lambda x, y: (x+y, y-x), l1, l2))\n",
    "\n",
    "list_add_sub(list1, list2)"
   ]
  },
  {
   "cell_type": "markdown",
   "metadata": {},
   "source": [
    "#### 8) Write a Python program to convert a given list of integers in a list and tuple of strings."
   ]
  },
  {
   "cell_type": "code",
   "execution_count": 16,
   "metadata": {},
   "outputs": [
    {
     "data": {
      "text/plain": [
       "[1, 2, 3, 4, 5, 6, 7, 8, 9, 10]"
      ]
     },
     "execution_count": 16,
     "metadata": {},
     "output_type": "execute_result"
    }
   ],
   "source": [
    "l_int = [i for i in range(1, 11)]\n",
    "l_int"
   ]
  },
  {
   "cell_type": "code",
   "execution_count": 17,
   "metadata": {},
   "outputs": [
    {
     "data": {
      "text/plain": [
       "['1', '2', '3', '4', '5', '6', '7', '8', '9', '10']"
      ]
     },
     "execution_count": 17,
     "metadata": {},
     "output_type": "execute_result"
    }
   ],
   "source": [
    "def stringify_list(l):\n",
    "    return list(map(lambda x: str(x), l))\n",
    "\n",
    "stringify_list(l_int)"
   ]
  },
  {
   "cell_type": "code",
   "execution_count": 18,
   "metadata": {},
   "outputs": [
    {
     "data": {
      "text/plain": [
       "('1', '2', '3', '4', '5', '6', '7', '8', '9', '10')"
      ]
     },
     "execution_count": 18,
     "metadata": {},
     "output_type": "execute_result"
    }
   ],
   "source": [
    "def stringify_list_into_tuple(l):\n",
    "    return tuple(map(lambda x: str(x), l))\n",
    "\n",
    "stringify_list_into_tuple(l_int)"
   ]
  },
  {
   "cell_type": "markdown",
   "metadata": {},
   "source": [
    "#### 9) Write a Pyton program to create a new list taking specific elements from a tuple and convert a string value to integer."
   ]
  },
  {
   "cell_type": "code",
   "execution_count": 19,
   "metadata": {},
   "outputs": [],
   "source": [
    "employee_data = [(\"Krish Naik\", \"15/05/1988\", \"65kg\"), (\"Sudhanshu Kumar\", \"17/05/1986\", \"77kg\"), (\"Navin Reddy\", \"16/02/1989\", \"69kg\"), (\"Sunny Savita\", \"25/09/1990\", \"65kg\")]"
   ]
  },
  {
   "cell_type": "code",
   "execution_count": 20,
   "metadata": {},
   "outputs": [
    {
     "data": {
      "text/plain": [
       "['Krish Naik', 'Sudhanshu Kumar', 'Navin Reddy', 'Sunny Savita']"
      ]
     },
     "execution_count": 20,
     "metadata": {},
     "output_type": "execute_result"
    }
   ],
   "source": [
    "employee_name = list(map(lambda x: x[0], employee_data))\n",
    "employee_name"
   ]
  },
  {
   "cell_type": "code",
   "execution_count": 21,
   "metadata": {},
   "outputs": [
    {
     "data": {
      "text/plain": [
       "['15/05/1988', '17/05/1986', '16/02/1989', '25/09/1990']"
      ]
     },
     "execution_count": 21,
     "metadata": {},
     "output_type": "execute_result"
    }
   ],
   "source": [
    "employee_dob = list(map(lambda x: x[1], employee_data))\n",
    "employee_dob"
   ]
  },
  {
   "cell_type": "code",
   "execution_count": 22,
   "metadata": {},
   "outputs": [
    {
     "data": {
      "text/plain": [
       "[65, 77, 69, 65]"
      ]
     },
     "execution_count": 22,
     "metadata": {},
     "output_type": "execute_result"
    }
   ],
   "source": [
    "employee_weight = list(map(lambda x: int(x[2][:2]), employee_data))\n",
    "employee_weight"
   ]
  },
  {
   "cell_type": "markdown",
   "metadata": {},
   "source": [
    "#### 10) Write a Python program to compute the square of first N Fibonacci numbers, using map function and generate a list of the numbers."
   ]
  },
  {
   "cell_type": "code",
   "execution_count": 23,
   "metadata": {},
   "outputs": [
    {
     "data": {
      "text/plain": [
       "[0, 1, 1, 4, 9, 25, 64, 169, 441, 1156, 3025, 7921]"
      ]
     },
     "execution_count": 23,
     "metadata": {},
     "output_type": "execute_result"
    }
   ],
   "source": [
    "import itertools as it\n",
    "\n",
    "def fib(x=0, y=1):\n",
    "    yield x\n",
    "    while True:\n",
    "        yield y\n",
    "        x, y = y, x + y\n",
    "no_of_iterations = 12\n",
    "l = list(it.islice(fib(), no_of_iterations))\n",
    "\n",
    "square_fibonacci = list(map(lambda x: x ** 2, l))\n",
    "square_fibonacci"
   ]
  },
  {
   "cell_type": "markdown",
   "metadata": {},
   "source": [
    "#### 11) Write a Python program to compute the sum of elements of a given array of integers, use map() function"
   ]
  },
  {
   "cell_type": "code",
   "execution_count": 24,
   "metadata": {},
   "outputs": [],
   "source": [
    "l_int = [i for i in range(1, 101)]"
   ]
  },
  {
   "cell_type": "code",
   "execution_count": 25,
   "metadata": {},
   "outputs": [
    {
     "data": {
      "text/plain": [
       "5050"
      ]
     },
     "execution_count": 25,
     "metadata": {},
     "output_type": "execute_result"
    }
   ],
   "source": [
    "from array import array as arr\n",
    "def add(num_array):\n",
    "    sum = 0\n",
    "    for i in num_array:\n",
    "        sum += i\n",
    "    return sum\n",
    "\n",
    "num = arr(\"i\", l_int)\n",
    "\n",
    "num_array = list(map(int, num))\n",
    "add(num_array)"
   ]
  },
  {
   "cell_type": "markdown",
   "metadata": {},
   "source": [
    "#### 12) Write a puython program to find the ration of postive numbers, negative number and zeros in an array"
   ]
  },
  {
   "cell_type": "code",
   "execution_count": 26,
   "metadata": {},
   "outputs": [
    {
     "data": {
      "text/plain": [
       "17"
      ]
     },
     "execution_count": 26,
     "metadata": {},
     "output_type": "execute_result"
    }
   ],
   "source": [
    "num = arr(\"i\", [1, 2, -2, -3, 0, 5, 6, 7, 8, -7, 0, -5, 99, -101, -89, 0, 89])\n",
    "len(num)"
   ]
  },
  {
   "cell_type": "code",
   "execution_count": 27,
   "metadata": {},
   "outputs": [
    {
     "data": {
      "text/plain": [
       "'ratio of positive numbers : 0.47, negative numbers : 0.35 and zeroes : 0.18'"
      ]
     },
     "execution_count": 27,
     "metadata": {},
     "output_type": "execute_result"
    }
   ],
   "source": [
    "def ratio_calc(num):\n",
    "    n_pos = n_neg = n_zero = 0\n",
    "    n = len(num)\n",
    "    for x in num:\n",
    "        if x == 0:\n",
    "            n_zero += 1\n",
    "        elif x > 0:\n",
    "            n_pos += 1\n",
    "        elif x < 0:\n",
    "            n_neg += 1\n",
    "    return \"ratio of positive numbers : {}, negative numbers : {} and zeroes : {}\".format(round(n_pos/n, 2), round(n_neg/n, 2), round(n_zero/n, 2))\n",
    "\n",
    "int_array = list(map(int, num))\n",
    "ratio_calc(int_array)"
   ]
  },
  {
   "cell_type": "markdown",
   "metadata": {},
   "source": [
    "#### 13) Write a Python program to count the same pair in two given lists. use map() function."
   ]
  },
  {
   "cell_type": "code",
   "execution_count": 28,
   "metadata": {},
   "outputs": [
    {
     "data": {
      "text/plain": [
       "[7, 6, 4, 7, 9, 7, 1, 2, 6, 6, 9]"
      ]
     },
     "execution_count": 28,
     "metadata": {},
     "output_type": "execute_result"
    }
   ],
   "source": [
    "import random\n",
    "l1 = [random.randrange(1, 10) for i in range(11)]\n",
    "l1"
   ]
  },
  {
   "cell_type": "code",
   "execution_count": 29,
   "metadata": {},
   "outputs": [
    {
     "data": {
      "text/plain": [
       "[8, 2, 4, 8, 5, 2, 3, 8, 5, 9, 4]"
      ]
     },
     "execution_count": 29,
     "metadata": {},
     "output_type": "execute_result"
    }
   ],
   "source": [
    "l2 = [random.randrange(1, 10) for i in range(11)]\n",
    "l2"
   ]
  },
  {
   "cell_type": "code",
   "execution_count": 30,
   "metadata": {},
   "outputs": [
    {
     "data": {
      "text/plain": [
       "1"
      ]
     },
     "execution_count": 30,
     "metadata": {},
     "output_type": "execute_result"
    }
   ],
   "source": [
    "from operator import eq\n",
    "\n",
    "def count_same_pair(list1, list2):\n",
    "    return sum(map(eq, l1, l2))\n",
    "\n",
    "count_same_pair(l1, l2)"
   ]
  },
  {
   "cell_type": "markdown",
   "metadata": {},
   "source": [
    "#### 14) Write a Python program to interleave two given list into another list randomly using map() function."
   ]
  },
  {
   "cell_type": "code",
   "execution_count": 31,
   "metadata": {},
   "outputs": [],
   "source": [
    "import random\n",
    "l1 = [random.randint(1, 20) for i in range(11)]\n",
    "l2 = [random.randint(1, 20) for i in range(11)]"
   ]
  },
  {
   "cell_type": "code",
   "execution_count": 32,
   "metadata": {},
   "outputs": [
    {
     "name": "stdout",
     "output_type": "stream",
     "text": [
      "[5, 13, 11, 14, 7, 6, 18, 15, 5, 16, 14]\n",
      "[20, 4, 18, 17, 10, 4, 18, 13, 20, 7, 14]\n"
     ]
    }
   ],
   "source": [
    "print(l1)\n",
    "print(l2)"
   ]
  },
  {
   "cell_type": "code",
   "execution_count": 33,
   "metadata": {},
   "outputs": [
    {
     "data": {
      "text/plain": [
       "[5,\n",
       " 13,\n",
       " 20,\n",
       " 4,\n",
       " 11,\n",
       " 14,\n",
       " 18,\n",
       " 7,\n",
       " 6,\n",
       " 17,\n",
       " 18,\n",
       " 10,\n",
       " 4,\n",
       " 18,\n",
       " 15,\n",
       " 5,\n",
       " 13,\n",
       " 16,\n",
       " 20,\n",
       " 7,\n",
       " 14,\n",
       " 14]"
      ]
     },
     "execution_count": 33,
     "metadata": {},
     "output_type": "execute_result"
    }
   ],
   "source": [
    "def interleave_list(list1, list2):\n",
    "    \"\"\"\n",
    "    This functions adds two list elements in random sequence\n",
    "    \"\"\"\n",
    "    return list(map(next, random.sample([iter(list1)]*len(list1) + [iter(list2)]*len(list2), len(list1)+len(l2))))\n",
    "                \n",
    "interleave_list(l1, l2)                "
   ]
  },
  {
   "cell_type": "markdown",
   "metadata": {},
   "source": [
    "#### 15) Write a Python programa to split a given dictionary of lists into list of ductionaries using map function."
   ]
  },
  {
   "cell_type": "code",
   "execution_count": 34,
   "metadata": {},
   "outputs": [],
   "source": [
    "dict1 = {\"Name\" : [\"Krish\", \"Sudhanshu\", \"Navin\"], \"Surname\" : [\"Naik\", \"Kumar\", \"Reddy\"]}"
   ]
  },
  {
   "cell_type": "code",
   "execution_count": 35,
   "metadata": {},
   "outputs": [
    {
     "data": {
      "text/plain": [
       "[{'Name': 'Krish', 'Surname': 'Naik'},\n",
       " {'Name': 'Sudhanshu', 'Surname': 'Kumar'},\n",
       " {'Name': 'Navin', 'Surname': 'Reddy'}]"
      ]
     },
     "execution_count": 35,
     "metadata": {},
     "output_type": "execute_result"
    }
   ],
   "source": [
    "def dict_list_of_dict(dict1):\n",
    "    return list(map(dict, zip(*[[(key, val) for val in value] for key, value in dict1.items()])))\n",
    "dict_list_of_dict(dict1)"
   ]
  },
  {
   "cell_type": "markdown",
   "metadata": {},
   "source": [
    "#### 16) Write a Python program to convert a given list of strings into list of lists using map function."
   ]
  },
  {
   "cell_type": "code",
   "execution_count": 36,
   "metadata": {},
   "outputs": [
    {
     "data": {
      "text/plain": [
       "[['D', 'L'], ['M', 'L'], ['N', 'L', 'P'], ['C', 'V']]"
      ]
     },
     "execution_count": 36,
     "metadata": {},
     "output_type": "execute_result"
    }
   ],
   "source": [
    "l_courses = [\"DL\", \"ML\", \"NLP\", \"CV\"]\n",
    "\n",
    "def list_of_list(l):\n",
    "    return list(map(list, l))\n",
    "\n",
    "list_of_list(l_courses)"
   ]
  },
  {
   "cell_type": "markdown",
   "metadata": {},
   "source": [
    "#### 17) Write a Python program to convert a given list of tuples to a list of strings using map function."
   ]
  },
  {
   "cell_type": "code",
   "execution_count": 37,
   "metadata": {},
   "outputs": [
    {
     "data": {
      "text/plain": [
       "['Krish Naik', 'Sudhanshu Kumar', 'Navin Reddy', 'Hitesh Choudhary']"
      ]
     },
     "execution_count": 37,
     "metadata": {},
     "output_type": "execute_result"
    }
   ],
   "source": [
    "mentors = [(\"Krish\", \"Naik\"), (\"Sudhanshu\", \"Kumar\"), (\"Navin\", \"Reddy\"), (\"Hitesh\", \"Choudhary\")]\n",
    "\n",
    "def ListofTuples_to_ListofStrings(l):\n",
    "    return list(map(lambda x: x[0] + \" \" + x[1], l))\n",
    "\n",
    "ListofTuples_to_ListofStrings(mentors)"
   ]
  },
  {
   "cell_type": "markdown",
   "metadata": {},
   "source": [
    "#### 18) Write a Python program to filter a lisdt of integers using filter function."
   ]
  },
  {
   "cell_type": "code",
   "execution_count": 38,
   "metadata": {},
   "outputs": [
    {
     "data": {
      "text/plain": [
       "[2, 4, 6, 8, 10]"
      ]
     },
     "execution_count": 38,
     "metadata": {},
     "output_type": "execute_result"
    }
   ],
   "source": [
    "lint = [i for i in range(1, 11)]\n",
    "\n",
    "def even_filter(l):\n",
    "    return list(filter(lambda x: x % 2 == 0, l))\n",
    "\n",
    "even_filter(lint)"
   ]
  },
  {
   "cell_type": "code",
   "execution_count": 39,
   "metadata": {},
   "outputs": [
    {
     "data": {
      "text/plain": [
       "[1, 3, 5, 7, 9]"
      ]
     },
     "execution_count": 39,
     "metadata": {},
     "output_type": "execute_result"
    }
   ],
   "source": [
    "def odd_filter(l):\n",
    "    return list(filter(lambda x: x % 2 != 0, l))\n",
    "\n",
    "odd_filter(lint)"
   ]
  },
  {
   "cell_type": "markdown",
   "metadata": {},
   "source": [
    "#### 19) Write a Python program to find intersection of two arrays using dFilter function."
   ]
  },
  {
   "cell_type": "code",
   "execution_count": 40,
   "metadata": {},
   "outputs": [
    {
     "data": {
      "text/plain": [
       "[2, 4, 6, 8]"
      ]
     },
     "execution_count": 40,
     "metadata": {},
     "output_type": "execute_result"
    }
   ],
   "source": [
    "l1 = [1, 2, 3, 4, 5, 6, 7, 8, 9, 10]\n",
    "l2 = [2, 4, 6, 8, 11, 12]\n",
    "\n",
    "def intersection(list1, list2):\n",
    "    return list(filter(lambda x: x in list1, list2))\n",
    "\n",
    "intersection(l1, l2)"
   ]
  },
  {
   "cell_type": "markdown",
   "metadata": {},
   "source": [
    "#### 20) Write a Python program to count the even, odd numbers in a given array of integers using filter function."
   ]
  },
  {
   "cell_type": "code",
   "execution_count": 41,
   "metadata": {},
   "outputs": [
    {
     "data": {
      "text/plain": [
       "[30, 42, 11, 39, 46, 29, 41, 45, 3, 30]"
      ]
     },
     "execution_count": 41,
     "metadata": {},
     "output_type": "execute_result"
    }
   ],
   "source": [
    "import random\n",
    "def count_Even_Odd(l):\n",
    "    even = len(list(filter(lambda x: x % 2 == 0, l)))\n",
    "    \n",
    "    print(\"Count of Even number in given list if : \", even)\n",
    "    print(\"Count of Odd number in given list if : \", len(l) - even)\n",
    "    \n",
    "list_num = [random.randrange(1, 50) for i in range(10)]\n",
    "list_num"
   ]
  },
  {
   "cell_type": "code",
   "execution_count": 42,
   "metadata": {},
   "outputs": [
    {
     "name": "stdout",
     "output_type": "stream",
     "text": [
      "Count of Even number in given list if :  4\n",
      "Count of Odd number in given list if :  6\n"
     ]
    }
   ],
   "source": [
    "count_Even_Odd(list_num)"
   ]
  },
  {
   "cell_type": "markdown",
   "metadata": {},
   "source": [
    "#### 21) Write a Python program to find palindromes in a given list of strings using filter function."
   ]
  },
  {
   "cell_type": "code",
   "execution_count": 43,
   "metadata": {},
   "outputs": [
    {
     "data": {
      "text/plain": [
       "['php', 'aaa']"
      ]
     },
     "execution_count": 43,
     "metadata": {},
     "output_type": "execute_result"
    }
   ],
   "source": [
    "l_word = [\"php\", \"w3r\", \"Python\", \"abcd\", \"Java\", \"aaa\"]\n",
    "\n",
    "def palindrome_filter(l):\n",
    "    return list(filter(lambda x : x if x == x[::-1] else \"\", l))\n",
    "    \n",
    "palindrome_filter(l_word)"
   ]
  },
  {
   "cell_type": "markdown",
   "metadata": {},
   "source": [
    "#### 22) Write a Python program to find all anagrams of a string in a given list of strings using filter function."
   ]
  },
  {
   "cell_type": "code",
   "execution_count": 44,
   "metadata": {},
   "outputs": [
    {
     "data": {
      "text/plain": [
       "['wxyz', 'zywx', 'yzxw']"
      ]
     },
     "execution_count": 44,
     "metadata": {},
     "output_type": "execute_result"
    }
   ],
   "source": [
    "l = [\"wxyz\", \"wxye\", \"zywx\", \"zxew\", \"yzxw\"]\n",
    "\n",
    "from collections import Counter\n",
    "\n",
    "def anagrans_filter(main_string, list_words):\n",
    "    return list(filter(lambda x: x if Counter(main_string) == Counter(x) else \"\", list_words))\n",
    "anagrans_filter(\"wxyz\", l)"
   ]
  },
  {
   "cell_type": "markdown",
   "metadata": {},
   "source": [
    "#### 23) Write a Python program to calculate the product of a given list of numbers using reduce function."
   ]
  },
  {
   "cell_type": "code",
   "execution_count": 45,
   "metadata": {},
   "outputs": [
    {
     "data": {
      "text/plain": [
       "3628800"
      ]
     },
     "execution_count": 45,
     "metadata": {},
     "output_type": "execute_result"
    }
   ],
   "source": [
    "from functools import reduce\n",
    "\n",
    "l = [i for i in range(1, 11)]\n",
    "\n",
    "def product_reduce(l_int):\n",
    "    return reduce(lambda x, y: x*y, l_int)\n",
    "\n",
    "product_reduce(l)"
   ]
  },
  {
   "cell_type": "markdown",
   "metadata": {},
   "source": [
    "#### 24) Write a Python program to calculate the sum of numbers in a given list of numbers using reduce function."
   ]
  },
  {
   "cell_type": "code",
   "execution_count": 46,
   "metadata": {},
   "outputs": [
    {
     "data": {
      "text/plain": [
       "165"
      ]
     },
     "execution_count": 46,
     "metadata": {},
     "output_type": "execute_result"
    }
   ],
   "source": [
    "l_num = [i for i in range(10, 21)]\n",
    "\n",
    "def sum_reduce(l_int):\n",
    "    return reduce(lambda x, y: x + y, l_int)\n",
    "\n",
    "sum_reduce(l_num)"
   ]
  },
  {
   "cell_type": "markdown",
   "metadata": {},
   "source": [
    "#### 25) Write a Python program to multiply all the numbers in a given list using reduce function."
   ]
  },
  {
   "cell_type": "code",
   "execution_count": 51,
   "metadata": {},
   "outputs": [],
   "source": [
    "l = [4, 3, 2, 2, -1, 10]\n",
    "l1 = [2, 2, 4, 12, 6.6, 8.1, 8.3]\n",
    "\n",
    "def multiply_reduce(l_int):\n",
    "    return round(reduce(lambda x, y: x*y, l_int), 2)"
   ]
  },
  {
   "cell_type": "code",
   "execution_count": 52,
   "metadata": {},
   "outputs": [
    {
     "data": {
      "text/plain": [
       "-480"
      ]
     },
     "execution_count": 52,
     "metadata": {},
     "output_type": "execute_result"
    }
   ],
   "source": [
    "multiply_reduce(l)"
   ]
  },
  {
   "cell_type": "code",
   "execution_count": 53,
   "metadata": {},
   "outputs": [
    {
     "data": {
      "text/plain": [
       "85193.86"
      ]
     },
     "execution_count": 53,
     "metadata": {},
     "output_type": "execute_result"
    }
   ],
   "source": [
    "multiply_reduce(l1)"
   ]
  }
 ],
 "metadata": {
  "kernelspec": {
   "display_name": "Python 3 (ipykernel)",
   "language": "python",
   "name": "python3"
  },
  "language_info": {
   "codemirror_mode": {
    "name": "ipython",
    "version": 3
   },
   "file_extension": ".py",
   "mimetype": "text/x-python",
   "name": "python",
   "nbconvert_exporter": "python",
   "pygments_lexer": "ipython3",
   "version": "3.9.13"
  }
 },
 "nbformat": 4,
 "nbformat_minor": 4
}
