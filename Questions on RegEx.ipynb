{
 "cells": [
  {
   "cell_type": "markdown",
   "id": "e1321df4",
   "metadata": {},
   "source": [
    "## Questions on RegEx\n",
    "Arasalan Shaikh\n",
    "\n",
    "RegEx Concept : https://www.linkedin.com/posts/arasalanshaikh_regex-activity-7060218995584471040-Pqdl?utm_source=share&utm_medium=member_desktop\n",
    "\n",
    "Linkedin : https://www.linkedin.com/in/arasalanshaikh/\n",
    "\n",
    "Credits : W3School for questions"
   ]
  },
  {
   "cell_type": "code",
   "execution_count": 1,
   "id": "813e0875",
   "metadata": {},
   "outputs": [],
   "source": [
    "import re"
   ]
  },
  {
   "cell_type": "markdown",
   "id": "8162de2c",
   "metadata": {},
   "source": [
    "### 1. Write a Python program to check that a string contains only a certain set of characters (in this case a-z, A-Z and 0-9)."
   ]
  },
  {
   "cell_type": "code",
   "execution_count": 2,
   "id": "426840e8",
   "metadata": {},
   "outputs": [],
   "source": [
    "s1 = \"asjdJASDJA123asd123\"\n",
    "s2 = \"&%576%^&%7^$%#$$%#)\""
   ]
  },
  {
   "cell_type": "code",
   "execution_count": 3,
   "id": "45904d79",
   "metadata": {},
   "outputs": [],
   "source": [
    "def char_check(test_string):\n",
    "    pattern = re.compile(r\"[^(a-z)+(A-Z)+(0-9)+]\")\n",
    "    check_str = pattern.search(test_string)\n",
    "    return not bool(check_str)"
   ]
  },
  {
   "cell_type": "code",
   "execution_count": 4,
   "id": "3bc18da9",
   "metadata": {},
   "outputs": [
    {
     "data": {
      "text/plain": [
       "True"
      ]
     },
     "execution_count": 4,
     "metadata": {},
     "output_type": "execute_result"
    }
   ],
   "source": [
    "char_check(s1)"
   ]
  },
  {
   "cell_type": "code",
   "execution_count": 5,
   "id": "a8d767b2",
   "metadata": {},
   "outputs": [
    {
     "data": {
      "text/plain": [
       "False"
      ]
     },
     "execution_count": 5,
     "metadata": {},
     "output_type": "execute_result"
    }
   ],
   "source": [
    "char_check(s2)"
   ]
  },
  {
   "cell_type": "markdown",
   "id": "a34b9871",
   "metadata": {},
   "source": [
    "### 2. Write a Python program that matches a string that has an a followed by zero or more b's."
   ]
  },
  {
   "cell_type": "code",
   "execution_count": 6,
   "id": "97422284",
   "metadata": {},
   "outputs": [],
   "source": [
    "def custom_string_match(test_string):\n",
    "    pattern = re.compile(r\"^a(b*)\")\n",
    "    if pattern.search(test_string):\n",
    "        return \"match found\"\n",
    "    else:\n",
    "        return \"match not found\""
   ]
  },
  {
   "cell_type": "code",
   "execution_count": 7,
   "id": "279481ff",
   "metadata": {},
   "outputs": [
    {
     "data": {
      "text/plain": [
       "'match found'"
      ]
     },
     "execution_count": 7,
     "metadata": {},
     "output_type": "execute_result"
    }
   ],
   "source": [
    "s1 = \"aaaa\"\n",
    "custom_string_match(s1)"
   ]
  },
  {
   "cell_type": "code",
   "execution_count": 8,
   "id": "72d2cbb9",
   "metadata": {},
   "outputs": [
    {
     "data": {
      "text/plain": [
       "'match found'"
      ]
     },
     "execution_count": 8,
     "metadata": {},
     "output_type": "execute_result"
    }
   ],
   "source": [
    "s2 = \"abbb\"\n",
    "custom_string_match(s2)"
   ]
  },
  {
   "cell_type": "code",
   "execution_count": 9,
   "id": "d69de2bc",
   "metadata": {},
   "outputs": [
    {
     "data": {
      "text/plain": [
       "'match found'"
      ]
     },
     "execution_count": 9,
     "metadata": {},
     "output_type": "execute_result"
    }
   ],
   "source": [
    "s3 = \"abc\"\n",
    "custom_string_match(s3)"
   ]
  },
  {
   "cell_type": "code",
   "execution_count": 10,
   "id": "a0bc9f40",
   "metadata": {},
   "outputs": [
    {
     "data": {
      "text/plain": [
       "'match not found'"
      ]
     },
     "execution_count": 10,
     "metadata": {},
     "output_type": "execute_result"
    }
   ],
   "source": [
    "s4 = \"babbbc\"\n",
    "custom_string_match(s4)"
   ]
  },
  {
   "cell_type": "markdown",
   "id": "4cdf3fab",
   "metadata": {},
   "source": [
    "### 3. Write a Python program that matches a string that has an a followed by one or more b's."
   ]
  },
  {
   "cell_type": "code",
   "execution_count": 11,
   "id": "c32d8ecb",
   "metadata": {},
   "outputs": [],
   "source": [
    "def custom_string_match1(test_string):\n",
    "    pattern = re.compile(r\"^a(b+)\")\n",
    "    if pattern.search(test_string):\n",
    "        return \"match found\"\n",
    "    else:\n",
    "        return \"match not found\""
   ]
  },
  {
   "cell_type": "code",
   "execution_count": 12,
   "id": "22f2b927",
   "metadata": {},
   "outputs": [
    {
     "data": {
      "text/plain": [
       "'match not found'"
      ]
     },
     "execution_count": 12,
     "metadata": {},
     "output_type": "execute_result"
    }
   ],
   "source": [
    "s1 = \"aaaa\"\n",
    "custom_string_match1(s1)"
   ]
  },
  {
   "cell_type": "code",
   "execution_count": 13,
   "id": "3f6c8b57",
   "metadata": {},
   "outputs": [
    {
     "data": {
      "text/plain": [
       "'match found'"
      ]
     },
     "execution_count": 13,
     "metadata": {},
     "output_type": "execute_result"
    }
   ],
   "source": [
    "s2 = \"abbb\"\n",
    "custom_string_match1(s2)"
   ]
  },
  {
   "cell_type": "code",
   "execution_count": 14,
   "id": "82465a13",
   "metadata": {},
   "outputs": [
    {
     "data": {
      "text/plain": [
       "'match found'"
      ]
     },
     "execution_count": 14,
     "metadata": {},
     "output_type": "execute_result"
    }
   ],
   "source": [
    "s3 = \"abc\"\n",
    "custom_string_match1(s3)"
   ]
  },
  {
   "cell_type": "code",
   "execution_count": 15,
   "id": "a1611310",
   "metadata": {},
   "outputs": [
    {
     "data": {
      "text/plain": [
       "'match not found'"
      ]
     },
     "execution_count": 15,
     "metadata": {},
     "output_type": "execute_result"
    }
   ],
   "source": [
    "s4 = \"babbbc\"\n",
    "custom_string_match1(s4)"
   ]
  },
  {
   "cell_type": "markdown",
   "id": "7045c585",
   "metadata": {},
   "source": [
    "### 4. Write a Python program that matches a string that has an a followed by zero or one 'b'."
   ]
  },
  {
   "cell_type": "code",
   "execution_count": 16,
   "id": "95a294e9",
   "metadata": {},
   "outputs": [],
   "source": [
    "def custom_string_match2(test_string):\n",
    "    pattern = re.compile(r\"ab?\")\n",
    "    if pattern.search(test_string):\n",
    "        return \"match found\"\n",
    "    else:\n",
    "        return \"match not found\""
   ]
  },
  {
   "cell_type": "code",
   "execution_count": 17,
   "id": "f7cc94cf",
   "metadata": {},
   "outputs": [
    {
     "data": {
      "text/plain": [
       "'match found'"
      ]
     },
     "execution_count": 17,
     "metadata": {},
     "output_type": "execute_result"
    }
   ],
   "source": [
    "s1 = \"aaaa\"\n",
    "custom_string_match2(s1)"
   ]
  },
  {
   "cell_type": "code",
   "execution_count": 18,
   "id": "667f20b7",
   "metadata": {},
   "outputs": [
    {
     "data": {
      "text/plain": [
       "'match found'"
      ]
     },
     "execution_count": 18,
     "metadata": {},
     "output_type": "execute_result"
    }
   ],
   "source": [
    "s2 = \"aabbb\"\n",
    "custom_string_match2(s2)"
   ]
  },
  {
   "cell_type": "code",
   "execution_count": 19,
   "id": "d0aca39f",
   "metadata": {},
   "outputs": [
    {
     "data": {
      "text/plain": [
       "'match found'"
      ]
     },
     "execution_count": 19,
     "metadata": {},
     "output_type": "execute_result"
    }
   ],
   "source": [
    "s3 = \"abc\"\n",
    "custom_string_match2(s3)"
   ]
  },
  {
   "cell_type": "code",
   "execution_count": 20,
   "id": "ce2680ca",
   "metadata": {},
   "outputs": [
    {
     "data": {
      "text/plain": [
       "'match found'"
      ]
     },
     "execution_count": 20,
     "metadata": {},
     "output_type": "execute_result"
    }
   ],
   "source": [
    "s4 = \"baabbbc\"\n",
    "custom_string_match2(s4)"
   ]
  },
  {
   "cell_type": "markdown",
   "id": "8120805d",
   "metadata": {},
   "source": [
    "### 5. Write a Python program that matches a string that has an a followed by three 'b'."
   ]
  },
  {
   "cell_type": "code",
   "execution_count": 21,
   "id": "a49f2e6e",
   "metadata": {},
   "outputs": [],
   "source": [
    "def custom_string_match3(test_string):\n",
    "    pattern = re.compile(r\"ab{3}\")\n",
    "    if pattern.search(test_string):\n",
    "        return \"match found\"\n",
    "    else:\n",
    "        return \"match not found\""
   ]
  },
  {
   "cell_type": "code",
   "execution_count": 22,
   "id": "1e2e9aee",
   "metadata": {},
   "outputs": [
    {
     "data": {
      "text/plain": [
       "'match found'"
      ]
     },
     "execution_count": 22,
     "metadata": {},
     "output_type": "execute_result"
    }
   ],
   "source": [
    "s1 = \"abbb\"\n",
    "custom_string_match3(s1)"
   ]
  },
  {
   "cell_type": "code",
   "execution_count": 23,
   "id": "cd70ffef",
   "metadata": {},
   "outputs": [
    {
     "data": {
      "text/plain": [
       "'match not found'"
      ]
     },
     "execution_count": 23,
     "metadata": {},
     "output_type": "execute_result"
    }
   ],
   "source": [
    "s2 = \"ababb\"\n",
    "custom_string_match3(s2)"
   ]
  },
  {
   "cell_type": "markdown",
   "id": "a1ddcd3d",
   "metadata": {},
   "source": [
    "### 6. Write a Python program that matches a string that has an a followed by two to three 'b'."
   ]
  },
  {
   "cell_type": "code",
   "execution_count": 24,
   "id": "643281b5",
   "metadata": {},
   "outputs": [],
   "source": [
    "def custom_string_match4(test_string):\n",
    "    pattern = re.compile(r\"ab{2,3}\")\n",
    "    if pattern.search(test_string):\n",
    "        return \"match found\"\n",
    "    else:\n",
    "        return \"match not found\""
   ]
  },
  {
   "cell_type": "code",
   "execution_count": 25,
   "id": "e389c22a",
   "metadata": {},
   "outputs": [
    {
     "data": {
      "text/plain": [
       "'match found'"
      ]
     },
     "execution_count": 25,
     "metadata": {},
     "output_type": "execute_result"
    }
   ],
   "source": [
    "s1 = \"ababb\"\n",
    "custom_string_match4(s1)"
   ]
  },
  {
   "cell_type": "code",
   "execution_count": 26,
   "id": "d902feb4",
   "metadata": {},
   "outputs": [
    {
     "data": {
      "text/plain": [
       "'match found'"
      ]
     },
     "execution_count": 26,
     "metadata": {},
     "output_type": "execute_result"
    }
   ],
   "source": [
    "s2 = \"abbbab\"\n",
    "custom_string_match4(s2)"
   ]
  },
  {
   "cell_type": "code",
   "execution_count": 27,
   "id": "6cc1565e",
   "metadata": {},
   "outputs": [
    {
     "data": {
      "text/plain": [
       "'match not found'"
      ]
     },
     "execution_count": 27,
     "metadata": {},
     "output_type": "execute_result"
    }
   ],
   "source": [
    "s3 = \"abab\"\n",
    "custom_string_match4(s3)"
   ]
  },
  {
   "cell_type": "markdown",
   "id": "24d70a3a",
   "metadata": {},
   "source": [
    "### 7. Write a Python program to find sequences of lowercase letters joined with a underscore."
   ]
  },
  {
   "cell_type": "code",
   "execution_count": 28,
   "id": "da3e488e",
   "metadata": {},
   "outputs": [],
   "source": [
    "def custom_string_match5(test_string):\n",
    "    pattern = re.compile(r\"^[a-z]+_[a-z]+$\")\n",
    "    if pattern.search(test_string):\n",
    "        return \"match found\"\n",
    "    else:\n",
    "        return \"match not found\""
   ]
  },
  {
   "cell_type": "code",
   "execution_count": 29,
   "id": "53ddd8aa",
   "metadata": {},
   "outputs": [
    {
     "data": {
      "text/plain": [
       "'match found'"
      ]
     },
     "execution_count": 29,
     "metadata": {},
     "output_type": "execute_result"
    }
   ],
   "source": [
    "s1 = \"krish_naik\"\n",
    "custom_string_match5(s1)"
   ]
  },
  {
   "cell_type": "code",
   "execution_count": 30,
   "id": "3e501bfb",
   "metadata": {},
   "outputs": [
    {
     "data": {
      "text/plain": [
       "'match not found'"
      ]
     },
     "execution_count": 30,
     "metadata": {},
     "output_type": "execute_result"
    }
   ],
   "source": [
    "s2 = \"Krish_naik\"\n",
    "custom_string_match5(s2)"
   ]
  },
  {
   "cell_type": "markdown",
   "id": "6ef385cc",
   "metadata": {},
   "source": [
    "### 8. Write a Python program to find the sequences of one upper case letter followed by lower case letters."
   ]
  },
  {
   "cell_type": "code",
   "execution_count": 31,
   "id": "66dcdeaa",
   "metadata": {},
   "outputs": [],
   "source": [
    "def custom_string_match6(test_string):\n",
    "    pattern = re.compile(r\"[A-Z]+[a-z]+\")\n",
    "    if pattern.search(test_string):\n",
    "        return \"match found\"\n",
    "    else:\n",
    "        return \"match not found\""
   ]
  },
  {
   "cell_type": "code",
   "execution_count": 32,
   "id": "dc848859",
   "metadata": {},
   "outputs": [
    {
     "data": {
      "text/plain": [
       "'match found'"
      ]
     },
     "execution_count": 32,
     "metadata": {},
     "output_type": "execute_result"
    }
   ],
   "source": [
    "s1 = \"Python\"\n",
    "custom_string_match6(s1)"
   ]
  },
  {
   "cell_type": "code",
   "execution_count": 33,
   "id": "bd0e480b",
   "metadata": {},
   "outputs": [
    {
     "data": {
      "text/plain": [
       "'match found'"
      ]
     },
     "execution_count": 33,
     "metadata": {},
     "output_type": "execute_result"
    }
   ],
   "source": [
    "s2 = \"pyThon\"\n",
    "custom_string_match6(s2)"
   ]
  },
  {
   "cell_type": "code",
   "execution_count": 34,
   "id": "9c371ebe",
   "metadata": {},
   "outputs": [
    {
     "data": {
      "text/plain": [
       "'match not found'"
      ]
     },
     "execution_count": 34,
     "metadata": {},
     "output_type": "execute_result"
    }
   ],
   "source": [
    "s3 = \"PYTHON\"\n",
    "custom_string_match6(s3)"
   ]
  },
  {
   "cell_type": "markdown",
   "id": "27a69018",
   "metadata": {},
   "source": [
    "### 9. Write a Python program that matches a string that has an 'a' followed by anything, ending in 'b'."
   ]
  },
  {
   "cell_type": "code",
   "execution_count": 35,
   "id": "ed802026",
   "metadata": {},
   "outputs": [],
   "source": [
    "def custom_string_match7(test_string):\n",
    "    pattern = re.compile(r\"a.*b$\")\n",
    "    if pattern.search(test_string):\n",
    "        return \"match found\"\n",
    "    else:\n",
    "        return \"match not found\""
   ]
  },
  {
   "cell_type": "code",
   "execution_count": 36,
   "id": "f283599b",
   "metadata": {},
   "outputs": [
    {
     "data": {
      "text/plain": [
       "'match not found'"
      ]
     },
     "execution_count": 36,
     "metadata": {},
     "output_type": "execute_result"
    }
   ],
   "source": [
    "s1 = \"aabbbbd\"\n",
    "custom_string_match7(s1)"
   ]
  },
  {
   "cell_type": "code",
   "execution_count": 37,
   "id": "16797f2c",
   "metadata": {},
   "outputs": [
    {
     "data": {
      "text/plain": [
       "'match not found'"
      ]
     },
     "execution_count": 37,
     "metadata": {},
     "output_type": "execute_result"
    }
   ],
   "source": [
    "s2 = \"aabAbbbc\"\n",
    "custom_string_match7(s2)"
   ]
  },
  {
   "cell_type": "code",
   "execution_count": 38,
   "id": "afea481a",
   "metadata": {},
   "outputs": [
    {
     "data": {
      "text/plain": [
       "'match found'"
      ]
     },
     "execution_count": 38,
     "metadata": {},
     "output_type": "execute_result"
    }
   ],
   "source": [
    "s3 = \"accddbbjjjb\"\n",
    "custom_string_match7(s3)"
   ]
  },
  {
   "cell_type": "code",
   "execution_count": 39,
   "id": "b44acb65",
   "metadata": {},
   "outputs": [
    {
     "data": {
      "text/plain": [
       "'match found'"
      ]
     },
     "execution_count": 39,
     "metadata": {},
     "output_type": "execute_result"
    }
   ],
   "source": [
    "s4 = \"accddbADADbjjjb\"\n",
    "custom_string_match7(s4)"
   ]
  },
  {
   "cell_type": "markdown",
   "id": "dd15dd16",
   "metadata": {},
   "source": [
    "### 10. Write a Python program that matches a word at the beginning of a string."
   ]
  },
  {
   "cell_type": "code",
   "execution_count": 40,
   "id": "9f2a7f03",
   "metadata": {},
   "outputs": [],
   "source": [
    "def custom_string_match8(test_string):\n",
    "    pattern = re.compile(r\"^\\w+\")\n",
    "    if pattern.search(test_string):\n",
    "        return \"match found\"\n",
    "    else:\n",
    "        return \"match not found\""
   ]
  },
  {
   "cell_type": "code",
   "execution_count": 41,
   "id": "51f46b90",
   "metadata": {},
   "outputs": [
    {
     "data": {
      "text/plain": [
       "'match not found'"
      ]
     },
     "execution_count": 41,
     "metadata": {},
     "output_type": "execute_result"
    }
   ],
   "source": [
    "s1 = \"@This is new code\"\n",
    "custom_string_match8(s1)"
   ]
  },
  {
   "cell_type": "code",
   "execution_count": 42,
   "id": "5fd0eaae",
   "metadata": {},
   "outputs": [
    {
     "data": {
      "text/plain": [
       "'match found'"
      ]
     },
     "execution_count": 42,
     "metadata": {},
     "output_type": "execute_result"
    }
   ],
   "source": [
    "s2 = \"This is new code\"\n",
    "custom_string_match8(s2)"
   ]
  },
  {
   "cell_type": "markdown",
   "id": "9ff22311",
   "metadata": {},
   "source": [
    "### 11. Write a Python program that matches a word at the end of string, with optional punctuation."
   ]
  },
  {
   "cell_type": "code",
   "execution_count": 43,
   "id": "68493ed4",
   "metadata": {},
   "outputs": [],
   "source": [
    "def custom_string_match9(test_string):\n",
    "    pattern = re.compile(r\"\\w+|[\\.\\?!]$\")\n",
    "    if pattern.search(test_string):\n",
    "        return \"match found\"\n",
    "    else:\n",
    "        return \"match not found\""
   ]
  },
  {
   "cell_type": "code",
   "execution_count": 44,
   "id": "035bcc67",
   "metadata": {},
   "outputs": [
    {
     "data": {
      "text/plain": [
       "'match found'"
      ]
     },
     "execution_count": 44,
     "metadata": {},
     "output_type": "execute_result"
    }
   ],
   "source": [
    "s1 = \"This is new code?\"\n",
    "custom_string_match9(s1)"
   ]
  },
  {
   "cell_type": "code",
   "execution_count": 45,
   "id": "1664ce42",
   "metadata": {},
   "outputs": [
    {
     "data": {
      "text/plain": [
       "'match found'"
      ]
     },
     "execution_count": 45,
     "metadata": {},
     "output_type": "execute_result"
    }
   ],
   "source": [
    "s2 = \"This is new code\"\n",
    "custom_string_match9(s2)"
   ]
  },
  {
   "cell_type": "code",
   "execution_count": 46,
   "id": "3ab6deb7",
   "metadata": {},
   "outputs": [
    {
     "data": {
      "text/plain": [
       "'match found'"
      ]
     },
     "execution_count": 46,
     "metadata": {},
     "output_type": "execute_result"
    }
   ],
   "source": [
    "s3 = \"This is new code \"\n",
    "custom_string_match9(s3)"
   ]
  },
  {
   "cell_type": "markdown",
   "id": "149889a7",
   "metadata": {},
   "source": [
    "### 12. Write a Python program that matches a word containing 'z'."
   ]
  },
  {
   "cell_type": "code",
   "execution_count": 47,
   "id": "7c0337f9",
   "metadata": {},
   "outputs": [],
   "source": [
    "def custom_string_match10(test_string):\n",
    "    pattern = re.compile(r\"(\\w*z.\\w*)|(^z\\w*)|(\\w*z$)\")\n",
    "    if pattern.search(test_string):\n",
    "        return \"match found\"\n",
    "    else:\n",
    "        return \"match not found\""
   ]
  },
  {
   "cell_type": "code",
   "execution_count": 48,
   "id": "229cd074",
   "metadata": {},
   "outputs": [
    {
     "data": {
      "text/plain": [
       "'match found'"
      ]
     },
     "execution_count": 48,
     "metadata": {},
     "output_type": "execute_result"
    }
   ],
   "source": [
    "s1 = \"I want to visit a nearby zoo\"\n",
    "custom_string_match10(s1)"
   ]
  },
  {
   "cell_type": "code",
   "execution_count": 49,
   "id": "56cb9c7e",
   "metadata": {},
   "outputs": [
    {
     "data": {
      "text/plain": [
       "'match not found'"
      ]
     },
     "execution_count": 49,
     "metadata": {},
     "output_type": "execute_result"
    }
   ],
   "source": [
    "s2 = \"I want to go to a nearby temple\"\n",
    "custom_string_match10(s2)"
   ]
  },
  {
   "cell_type": "markdown",
   "id": "120e2572",
   "metadata": {},
   "source": [
    "### 13. Write a Python program that matches a word containing 'z', not at the start or end of the word."
   ]
  },
  {
   "cell_type": "code",
   "execution_count": 50,
   "id": "3beba5f7",
   "metadata": {},
   "outputs": [],
   "source": [
    "def custom_string_match11(test_string):\n",
    "    pattern = re.compile(r\"\\Bz\\B\")\n",
    "    if pattern.search(test_string):\n",
    "        return \"match found\"\n",
    "    else:\n",
    "        return \"match not found\""
   ]
  },
  {
   "cell_type": "code",
   "execution_count": 51,
   "id": "8c5bbb1b",
   "metadata": {},
   "outputs": [
    {
     "data": {
      "text/plain": [
       "'match not found'"
      ]
     },
     "execution_count": 51,
     "metadata": {},
     "output_type": "execute_result"
    }
   ],
   "source": [
    "s1 = \"I want to visit a nearby zoo\"\n",
    "custom_string_match11(s1)"
   ]
  },
  {
   "cell_type": "code",
   "execution_count": 52,
   "id": "3d305935",
   "metadata": {},
   "outputs": [
    {
     "data": {
      "text/plain": [
       "'match not found'"
      ]
     },
     "execution_count": 52,
     "metadata": {},
     "output_type": "execute_result"
    }
   ],
   "source": [
    "s2 = \"I want to visit a nearby ooz\"\n",
    "custom_string_match11(s2)"
   ]
  },
  {
   "cell_type": "code",
   "execution_count": 53,
   "id": "fbe0fb88",
   "metadata": {},
   "outputs": [
    {
     "data": {
      "text/plain": [
       "'match found'"
      ]
     },
     "execution_count": 53,
     "metadata": {},
     "output_type": "execute_result"
    }
   ],
   "source": [
    "s3 = \"I want to visit a nearby ozso\"\n",
    "custom_string_match11(s3)"
   ]
  },
  {
   "cell_type": "markdown",
   "id": "97a9f97a",
   "metadata": {},
   "source": [
    "### 14. Write a Python program to match a string that contains only upper and lowercase letters, numbers, and underscores."
   ]
  },
  {
   "cell_type": "code",
   "execution_count": 54,
   "id": "d83f05f5",
   "metadata": {},
   "outputs": [],
   "source": [
    "def custom_string_match12(test_string):\n",
    "    pattern = re.compile(r\"^[a-zA-Z0-9_]*$\")\n",
    "    if pattern.search(test_string):\n",
    "        return \"match found\"\n",
    "    else:\n",
    "        return \"match not found\""
   ]
  },
  {
   "cell_type": "code",
   "execution_count": 55,
   "id": "d0bb9c02",
   "metadata": {},
   "outputs": [
    {
     "data": {
      "text/plain": [
       "'match found'"
      ]
     },
     "execution_count": 55,
     "metadata": {},
     "output_type": "execute_result"
    }
   ],
   "source": [
    "s1 = \"how_are_you_2022\"\n",
    "custom_string_match12(s1)"
   ]
  },
  {
   "cell_type": "code",
   "execution_count": 56,
   "id": "e7fcd93e",
   "metadata": {},
   "outputs": [
    {
     "data": {
      "text/plain": [
       "'match not found'"
      ]
     },
     "execution_count": 56,
     "metadata": {},
     "output_type": "execute_result"
    }
   ],
   "source": [
    "s2 = \"how are you_\"\n",
    "custom_string_match12(s2)"
   ]
  },
  {
   "cell_type": "markdown",
   "id": "49875318",
   "metadata": {},
   "source": [
    "### 15. Write a Python program where a string will start with a specific number."
   ]
  },
  {
   "cell_type": "code",
   "execution_count": 57,
   "id": "f686ad84",
   "metadata": {},
   "outputs": [],
   "source": [
    "def custom_string_match13(test_string, number):\n",
    "    pattern = re.compile(r\"^{}\".format(number))\n",
    "    if pattern.search(test_string):\n",
    "        return \"String starts with {}\".format(number)\n",
    "    else:\n",
    "        return \"String doesn't start with {}\".format(number)"
   ]
  },
  {
   "cell_type": "code",
   "execution_count": 58,
   "id": "1c51e4e3",
   "metadata": {},
   "outputs": [
    {
     "data": {
      "text/plain": [
       "'String starts with 4'"
      ]
     },
     "execution_count": 58,
     "metadata": {},
     "output_type": "execute_result"
    }
   ],
   "source": [
    "s1 = \"43123891283\"\n",
    "custom_string_match13(s1, 4)"
   ]
  },
  {
   "cell_type": "code",
   "execution_count": 59,
   "id": "31019f57",
   "metadata": {},
   "outputs": [
    {
     "data": {
      "text/plain": [
       "\"String doesn't start with 4\""
      ]
     },
     "execution_count": 59,
     "metadata": {},
     "output_type": "execute_result"
    }
   ],
   "source": [
    "s2 = \"93123891283\"\n",
    "custom_string_match13(s2, 4)"
   ]
  },
  {
   "cell_type": "markdown",
   "id": "681177c4",
   "metadata": {},
   "source": [
    "### 16. Write a Python program to remove leading zeros from an IP address."
   ]
  },
  {
   "cell_type": "code",
   "execution_count": 60,
   "id": "988edf4f",
   "metadata": {},
   "outputs": [],
   "source": [
    "def custom_string_sub(ip_add):\n",
    "    pattern = re.compile(r\"\\.[0]*\")\n",
    "    return pattern.sub(\".\", ip_add)"
   ]
  },
  {
   "cell_type": "code",
   "execution_count": 61,
   "id": "c479097c",
   "metadata": {},
   "outputs": [
    {
     "data": {
      "text/plain": [
       "'192.9.8.200'"
      ]
     },
     "execution_count": 61,
     "metadata": {},
     "output_type": "execute_result"
    }
   ],
   "source": [
    "s1 = \"192.09.08.0200\"\n",
    "custom_string_sub(s1)"
   ]
  },
  {
   "cell_type": "markdown",
   "id": "bf42f929",
   "metadata": {},
   "source": [
    "### 17. Write a Python program to check for a number at the end of a string."
   ]
  },
  {
   "cell_type": "code",
   "execution_count": 62,
   "id": "4887f531",
   "metadata": {},
   "outputs": [],
   "source": [
    "def custom_string_num_check(test_string):\n",
    "    pattern = re.compile(r\"\\d$\")\n",
    "    if pattern.search(test_string):\n",
    "        return \"String ends with a number\"\n",
    "    else:\n",
    "        return \"String doesn't end with a number\""
   ]
  },
  {
   "cell_type": "code",
   "execution_count": 63,
   "id": "c34bf0bc",
   "metadata": {},
   "outputs": [
    {
     "data": {
      "text/plain": [
       "'String ends with a number'"
      ]
     },
     "execution_count": 63,
     "metadata": {},
     "output_type": "execute_result"
    }
   ],
   "source": [
    "s1 = \"asdJA9\"\n",
    "custom_string_num_check(s1)"
   ]
  },
  {
   "cell_type": "code",
   "execution_count": 64,
   "id": "a76b3bf4",
   "metadata": {},
   "outputs": [
    {
     "data": {
      "text/plain": [
       "\"String doesn't end with a number\""
      ]
     },
     "execution_count": 64,
     "metadata": {},
     "output_type": "execute_result"
    }
   ],
   "source": [
    "s2 = \"Krish\"\n",
    "custom_string_num_check(s2)"
   ]
  },
  {
   "cell_type": "markdown",
   "id": "87d37615",
   "metadata": {},
   "source": [
    "### 18. Write a Python program to search the numbers (0-9) of length between 1 to 3 in a given string."
   ]
  },
  {
   "cell_type": "code",
   "execution_count": 65,
   "id": "94f98bff",
   "metadata": {},
   "outputs": [],
   "source": [
    "def custom_string_match14(test_string):\n",
    "    pattern = re.compile(r\"[0-9]{1}|[0-9]{2}|[0-9]{3}\")\n",
    "    if pattern.search(test_string):\n",
    "        return \"match found\"\n",
    "    else:\n",
    "        return \"match not found\""
   ]
  },
  {
   "cell_type": "code",
   "execution_count": 66,
   "id": "962ba3b3",
   "metadata": {},
   "outputs": [
    {
     "data": {
      "text/plain": [
       "'match found'"
      ]
     },
     "execution_count": 66,
     "metadata": {},
     "output_type": "execute_result"
    }
   ],
   "source": [
    "s1 = \"D.O.B 1\"\n",
    "custom_string_match14(s1)"
   ]
  },
  {
   "cell_type": "code",
   "execution_count": 67,
   "id": "da0b217b",
   "metadata": {},
   "outputs": [
    {
     "data": {
      "text/plain": [
       "'match found'"
      ]
     },
     "execution_count": 67,
     "metadata": {},
     "output_type": "execute_result"
    }
   ],
   "source": [
    "s2 = \"qhasd 12 asd\"\n",
    "custom_string_match14(s2)"
   ]
  },
  {
   "cell_type": "code",
   "execution_count": 68,
   "id": "3b811a85",
   "metadata": {},
   "outputs": [
    {
     "data": {
      "text/plain": [
       "'match found'"
      ]
     },
     "execution_count": 68,
     "metadata": {},
     "output_type": "execute_result"
    }
   ],
   "source": [
    "s3 = \"qhasd w345w asd\"\n",
    "custom_string_match14(s3)"
   ]
  },
  {
   "cell_type": "code",
   "execution_count": 69,
   "id": "5ac60c4b",
   "metadata": {},
   "outputs": [
    {
     "data": {
      "text/plain": [
       "'match not found'"
      ]
     },
     "execution_count": 69,
     "metadata": {},
     "output_type": "execute_result"
    }
   ],
   "source": [
    "s4 = \"qhasd asd\"\n",
    "custom_string_match14(s4)"
   ]
  },
  {
   "cell_type": "markdown",
   "id": "eb3b0930",
   "metadata": {},
   "source": [
    "### 19. Write a Python program to search some literals strings in a string."
   ]
  },
  {
   "cell_type": "code",
   "execution_count": 70,
   "id": "f83ba0c3",
   "metadata": {},
   "outputs": [],
   "source": [
    "def custom_string_match15(test_string, input_string, *string_pattern):\n",
    "    pattern = [i for i in string_pattern]\n",
    "    for i in pattern:\n",
    "        if re.search(input_string ,test_string):\n",
    "            return \"match found\"\n",
    "        else:\n",
    "            return \"match not found\""
   ]
  },
  {
   "cell_type": "code",
   "execution_count": 71,
   "id": "3e6c8d2a",
   "metadata": {},
   "outputs": [
    {
     "data": {
      "text/plain": [
       "'match found'"
      ]
     },
     "execution_count": 71,
     "metadata": {},
     "output_type": "execute_result"
    }
   ],
   "source": [
    "s1 = \"Sudhanshu and Krish are mentors in Ineuron\"\n",
    "custom_string_match15(s1, \"Krish\", \"Krish\", \"Sudhanshu\", \"Ineuron\")"
   ]
  },
  {
   "cell_type": "code",
   "execution_count": 72,
   "id": "c06a6b56",
   "metadata": {},
   "outputs": [
    {
     "data": {
      "text/plain": [
       "'match not found'"
      ]
     },
     "execution_count": 72,
     "metadata": {},
     "output_type": "execute_result"
    }
   ],
   "source": [
    "s2 = \"Sudhanshu and Krish are mentors in Ineuron\"\n",
    "custom_string_match15(s2, \"kamlesh\", \"Krish\", \"Sudhanshu\", \"Ineuron\")"
   ]
  },
  {
   "cell_type": "code",
   "execution_count": 73,
   "id": "7fd46636",
   "metadata": {},
   "outputs": [
    {
     "data": {
      "text/plain": [
       "'match found'"
      ]
     },
     "execution_count": 73,
     "metadata": {},
     "output_type": "execute_result"
    }
   ],
   "source": [
    "s3 = \"Sudhanshu and Krish are mentors in Ineuron\"\n",
    "custom_string_match15(s3, \"Sudhanshu\", \"Krish\", \"Sudhanshu\", \"Ineuron\")"
   ]
  },
  {
   "cell_type": "markdown",
   "id": "83ec554e",
   "metadata": {},
   "source": [
    "### 20. Write a Python program to search a literals string in a string and also find the location within the original string where the pattern occurs."
   ]
  },
  {
   "cell_type": "code",
   "execution_count": 74,
   "id": "f00fb02f",
   "metadata": {},
   "outputs": [],
   "source": [
    "def custom_string_match16(test_string, input_string, *string_pattern):\n",
    "    pattern = [i for i in string_pattern]\n",
    "    for i in pattern:\n",
    "        match = re.search(input_string ,test_string)\n",
    "        if match:\n",
    "            start_position = match.start()\n",
    "            end_position = match.end()\n",
    "            return \"match found at position ({} to {})\".format(start_position, end_position)\n",
    "        else:\n",
    "            return \"match not found\""
   ]
  },
  {
   "cell_type": "code",
   "execution_count": 75,
   "id": "8e944eeb",
   "metadata": {},
   "outputs": [
    {
     "data": {
      "text/plain": [
       "'match found at position (14 to 19)'"
      ]
     },
     "execution_count": 75,
     "metadata": {},
     "output_type": "execute_result"
    }
   ],
   "source": [
    "s1 = \"Sudhanshu and Krish are mentors in Ineuron\"\n",
    "custom_string_match16(s1, \"Krish\", \"Krish\", \"Sudhanshu\", \"Ineuron\")"
   ]
  },
  {
   "cell_type": "code",
   "execution_count": 76,
   "id": "ae9c5a94",
   "metadata": {},
   "outputs": [
    {
     "data": {
      "text/plain": [
       "'match found at position (0 to 9)'"
      ]
     },
     "execution_count": 76,
     "metadata": {},
     "output_type": "execute_result"
    }
   ],
   "source": [
    "s2 = \"Sudhanshu and Krish are mentors in Ineuron\"\n",
    "custom_string_match16(s2, \"Sudhanshu\", \"Krish\", \"Sudhanshu\", \"Ineuron\")"
   ]
  },
  {
   "cell_type": "code",
   "execution_count": 77,
   "id": "e7e474c3",
   "metadata": {},
   "outputs": [
    {
     "data": {
      "text/plain": [
       "'match not found'"
      ]
     },
     "execution_count": 77,
     "metadata": {},
     "output_type": "execute_result"
    }
   ],
   "source": [
    "s3 = \"Sudhanshu and Krish are mentors in Ineuron\"\n",
    "custom_string_match15(s3, \"kamlesh\", \"Krish\", \"Sudhanshu\", \"Ineuron\")"
   ]
  },
  {
   "cell_type": "markdown",
   "id": "0daed638",
   "metadata": {},
   "source": [
    "### 21. Write a Python program to find the substrings within a string."
   ]
  },
  {
   "cell_type": "code",
   "execution_count": 78,
   "id": "8d5f47ec",
   "metadata": {},
   "outputs": [],
   "source": [
    "def custom_string_match17(test_string, substring):\n",
    "    for match in re.findall(substring, test_string):\n",
    "        if match:\n",
    "            return \"match found\""
   ]
  },
  {
   "cell_type": "code",
   "execution_count": 79,
   "id": "2ef5d40a",
   "metadata": {},
   "outputs": [
    {
     "data": {
      "text/plain": [
       "'match found'"
      ]
     },
     "execution_count": 79,
     "metadata": {},
     "output_type": "execute_result"
    }
   ],
   "source": [
    "s1 = \"I have enrolled for FSDS in iNeuron\"\n",
    "custom_string_match17(s1, \"FSDS\")"
   ]
  },
  {
   "cell_type": "code",
   "execution_count": 80,
   "id": "9251aa4f",
   "metadata": {},
   "outputs": [
    {
     "data": {
      "text/plain": [
       "'match found'"
      ]
     },
     "execution_count": 80,
     "metadata": {},
     "output_type": "execute_result"
    }
   ],
   "source": [
    "s2 = \"I have enrolled for FSDS in iNeuron\"\n",
    "custom_string_match17(s2, \"iNeuron\")"
   ]
  },
  {
   "cell_type": "markdown",
   "id": "9a70d0dc",
   "metadata": {},
   "source": [
    "### 22. Write a Python program to find the occurrence and position of the substrings within a string."
   ]
  },
  {
   "cell_type": "code",
   "execution_count": 81,
   "id": "0af1507f",
   "metadata": {},
   "outputs": [],
   "source": [
    "def custom_string_match18(test_string, substring):\n",
    "    matches = re.finditer(substring, test_string)\n",
    "    for match in matches:\n",
    "        start_string = match.start()\n",
    "        end_string = match.end()\n",
    "        if match:\n",
    "            start_position = match.start()\n",
    "            end_position = match.end()\n",
    "            return \"match found at position ({} to {})\".format(start_position, end_position)"
   ]
  },
  {
   "cell_type": "code",
   "execution_count": 82,
   "id": "246f0954",
   "metadata": {},
   "outputs": [
    {
     "data": {
      "text/plain": [
       "'match found at position (20 to 24)'"
      ]
     },
     "execution_count": 82,
     "metadata": {},
     "output_type": "execute_result"
    }
   ],
   "source": [
    "s1 = \"I have enrolled for FSDS in iNeuron\"\n",
    "custom_string_match18(s1, \"FSDS\")"
   ]
  },
  {
   "cell_type": "code",
   "execution_count": 83,
   "id": "2023d1d2",
   "metadata": {},
   "outputs": [
    {
     "data": {
      "text/plain": [
       "'match found at position (28 to 35)'"
      ]
     },
     "execution_count": 83,
     "metadata": {},
     "output_type": "execute_result"
    }
   ],
   "source": [
    "s2 = \"I have enrolled for FSDS in iNeuron\"\n",
    "custom_string_match18(s2, \"iNeuron\")"
   ]
  },
  {
   "cell_type": "markdown",
   "id": "7d0424be",
   "metadata": {},
   "source": [
    "### 23. Write a Python program to replace whitespaces with an underscore and vice versa."
   ]
  },
  {
   "cell_type": "code",
   "execution_count": 84,
   "id": "5fb8cd75",
   "metadata": {},
   "outputs": [],
   "source": [
    "def replace_custom(test_string):\n",
    "    if \" \" in test_string:\n",
    "        return re.sub(\" \",\"_\", test_string)\n",
    "    else:\n",
    "        return re.sub(\"_\",\" \", test_string)"
   ]
  },
  {
   "cell_type": "code",
   "execution_count": 85,
   "id": "2ce93603",
   "metadata": {},
   "outputs": [
    {
     "data": {
      "text/plain": [
       "'iNeuron_is_Tech_Company'"
      ]
     },
     "execution_count": 85,
     "metadata": {},
     "output_type": "execute_result"
    }
   ],
   "source": [
    "s1 = \"iNeuron is Tech Company\"\n",
    "replace_custom(s1)"
   ]
  },
  {
   "cell_type": "code",
   "execution_count": 86,
   "id": "6c005891",
   "metadata": {},
   "outputs": [
    {
     "data": {
      "text/plain": [
       "'iNeuron is Tech Company'"
      ]
     },
     "execution_count": 86,
     "metadata": {},
     "output_type": "execute_result"
    }
   ],
   "source": [
    "s2 = \"iNeuron_is_Tech_Company\"\n",
    "replace_custom(s2)"
   ]
  },
  {
   "cell_type": "markdown",
   "id": "82c6c0c8",
   "metadata": {},
   "source": [
    "### 24. Write a Python program to extract year, month and date from a string."
   ]
  },
  {
   "cell_type": "code",
   "execution_count": 87,
   "id": "ce7b4890",
   "metadata": {},
   "outputs": [],
   "source": [
    "def date_finder(test_string):\n",
    "    pattern = re.compile(r\"(\\d{4}[-/\\.]\\d{1,2}[-/\\.]\\d{1,2})|\\d{1,2}[-/\\.]\\d{1,2}[-/\\.]\\d{4}\")\n",
    "    matches = pattern.findall(test_string)\n",
    "    for match in matches:\n",
    "        print(match)"
   ]
  },
  {
   "cell_type": "code",
   "execution_count": 88,
   "id": "ed842c0d",
   "metadata": {},
   "outputs": [
    {
     "name": "stdout",
     "output_type": "stream",
     "text": [
      "1999-09-04\n"
     ]
    }
   ],
   "source": [
    "s1 = \"My DOB is 1999-09-04 and i am 23 years old\"\n",
    "date_finder(s1)"
   ]
  },
  {
   "cell_type": "code",
   "execution_count": 89,
   "id": "25cd6a08",
   "metadata": {},
   "outputs": [
    {
     "name": "stdout",
     "output_type": "stream",
     "text": [
      "1999.09.04\n"
     ]
    }
   ],
   "source": [
    "s2 = \"My DOB is 1999.09.04 and i am 23 years old\"\n",
    "date_finder(s2)"
   ]
  },
  {
   "cell_type": "code",
   "execution_count": 90,
   "id": "71f14475",
   "metadata": {},
   "outputs": [
    {
     "name": "stdout",
     "output_type": "stream",
     "text": [
      "1999/09/04\n"
     ]
    }
   ],
   "source": [
    "s3 = \"My DOB is 1999/09/04 and i am 23 years old\"\n",
    "date_finder(s3)"
   ]
  },
  {
   "cell_type": "markdown",
   "id": "b04779f7",
   "metadata": {},
   "source": [
    "### 25. Write a Python program to convert a date of yyyy-mm-dd format to dd-mm-yyyy format."
   ]
  },
  {
   "cell_type": "code",
   "execution_count": 91,
   "id": "19cc7ac0",
   "metadata": {},
   "outputs": [],
   "source": [
    "def date_changer(test_string):\n",
    "    pattern = re.compile(r\"(\\d{4})[-/\\.](\\d{1,2})[-/\\.](\\d{1,2})\")\n",
    "    return pattern.sub(r\"\\3-\\2-\\1\", test_string)"
   ]
  },
  {
   "cell_type": "code",
   "execution_count": 92,
   "id": "2e1a78a5",
   "metadata": {},
   "outputs": [
    {
     "data": {
      "text/plain": [
       "'My DOB is 04-09-1999 and i am 23 years old'"
      ]
     },
     "execution_count": 92,
     "metadata": {},
     "output_type": "execute_result"
    }
   ],
   "source": [
    "s1 = \"My DOB is 1999-09-04 and i am 23 years old\"\n",
    "date_changer(s1)"
   ]
  },
  {
   "cell_type": "code",
   "execution_count": 93,
   "id": "5a08efef",
   "metadata": {},
   "outputs": [
    {
     "data": {
      "text/plain": [
       "'My DOB is 04-09-1999 and i am 23 years old'"
      ]
     },
     "execution_count": 93,
     "metadata": {},
     "output_type": "execute_result"
    }
   ],
   "source": [
    "s2 = \"My DOB is 1999.09.04 and i am 23 years old\"\n",
    "date_changer(s2)"
   ]
  },
  {
   "cell_type": "code",
   "execution_count": 94,
   "id": "7518d8a0",
   "metadata": {},
   "outputs": [
    {
     "data": {
      "text/plain": [
       "'My DOB is 04-09-1999 and i am 23 years old'"
      ]
     },
     "execution_count": 94,
     "metadata": {},
     "output_type": "execute_result"
    }
   ],
   "source": [
    "s3 = \"My DOB is 1999/09/04 and i am 23 years old\"\n",
    "date_changer(s3)"
   ]
  },
  {
   "cell_type": "markdown",
   "id": "71d2c384",
   "metadata": {},
   "source": [
    "### 26. Write a Python program to match if two words from a list of words starting with letter 'P'."
   ]
  },
  {
   "cell_type": "code",
   "execution_count": 95,
   "id": "a9ad730d",
   "metadata": {},
   "outputs": [],
   "source": [
    "def letter_checker(test_string):\n",
    "    for word in test_string:\n",
    "            match = re.match(\"(P\\w+)\\W(P\\w+)\", word)\n",
    "            if match:\n",
    "                print(match.groups())"
   ]
  },
  {
   "cell_type": "code",
   "execution_count": 96,
   "id": "136f9d7f",
   "metadata": {},
   "outputs": [
    {
     "name": "stdout",
     "output_type": "stream",
     "text": [
      "('Python', 'PHP')\n"
     ]
    }
   ],
   "source": [
    "l_word = [\"Python PHP\", \"Java JavaScript\", \"c c++\"]\n",
    "letter_checker(l_word)"
   ]
  },
  {
   "cell_type": "markdown",
   "id": "0fb0b748",
   "metadata": {},
   "source": [
    "### 27. Write a Python program to separate and print the numbers of a given string."
   ]
  },
  {
   "cell_type": "code",
   "execution_count": 97,
   "id": "9f9eeb6c",
   "metadata": {},
   "outputs": [],
   "source": [
    "def custom_printer(test_string):\n",
    "    pattern = re.compile(r\"\\D+\")\n",
    "    matches = pattern.split(test_string)\n",
    "    for match in matches:\n",
    "        print(match)"
   ]
  },
  {
   "cell_type": "code",
   "execution_count": 98,
   "id": "dbc2d7a9",
   "metadata": {},
   "outputs": [
    {
     "name": "stdout",
     "output_type": "stream",
     "text": [
      "\n",
      "100\n",
      "20\n",
      "30\n",
      "40\n",
      "\n"
     ]
    }
   ],
   "source": [
    "s1 = \"My 100 favourite 20 course 30 is 40 Python\"\n",
    "custom_printer(s1)"
   ]
  },
  {
   "cell_type": "markdown",
   "id": "ae506bb2",
   "metadata": {},
   "source": [
    "### 28. Write a Python program to find all words starting with 'a' or 'e' in a given string."
   ]
  },
  {
   "cell_type": "code",
   "execution_count": 99,
   "id": "4bda30f2",
   "metadata": {},
   "outputs": [],
   "source": [
    "def custom_matcher(test_string):\n",
    "    pattern = re.compile(r\"[ae]\\w+\")\n",
    "    matches = pattern.findall(test_string)\n",
    "    for match in matches:\n",
    "        print(match)"
   ]
  },
  {
   "cell_type": "code",
   "execution_count": 100,
   "id": "1a22c257",
   "metadata": {},
   "outputs": [
    {
     "name": "stdout",
     "output_type": "stream",
     "text": [
      "england\n",
      "engagged\n",
      "aine\n",
      "ar\n"
     ]
    }
   ],
   "source": [
    "s1 = \"england is engagged in russia-ukraine war\"\n",
    "custom_matcher(s1)"
   ]
  },
  {
   "cell_type": "markdown",
   "id": "35ed793d",
   "metadata": {},
   "source": [
    "### 29. Write a Python program to separate and print the numbers and their position of a given string."
   ]
  },
  {
   "cell_type": "code",
   "execution_count": 101,
   "id": "3e9e016e",
   "metadata": {},
   "outputs": [],
   "source": [
    "def custom_printer1(test_string):\n",
    "    pattern = re.compile(r\"\\d+\")\n",
    "    matches = pattern.finditer(test_string)\n",
    "    for match in matches:\n",
    "        start_num = match.start()\n",
    "        print(\"The number {} is found at index {}.\".format(match.group(), start_num))"
   ]
  },
  {
   "cell_type": "code",
   "execution_count": 102,
   "id": "575095c1",
   "metadata": {},
   "outputs": [
    {
     "name": "stdout",
     "output_type": "stream",
     "text": [
      "The number 100 is found at index 3.\n",
      "The number 20 is found at index 17.\n",
      "The number 30 is found at index 27.\n",
      "The number 40 is found at index 33.\n"
     ]
    }
   ],
   "source": [
    "s1 = \"My 100 favourite 20 course 30 is 40 Python\"\n",
    "custom_printer1(s1)"
   ]
  },
  {
   "cell_type": "markdown",
   "id": "91435e7d",
   "metadata": {},
   "source": [
    "### 30. Write a Python program to abbreviate 'Road' as 'Rd.' in a given string."
   ]
  },
  {
   "cell_type": "code",
   "execution_count": 103,
   "id": "ba5a71f9",
   "metadata": {},
   "outputs": [],
   "source": [
    "def abbreviator(test_string, word, rep_str):\n",
    "    pattern = re.compile(r\"{}$|^{}|{}\".format(word, word, word))\n",
    "    return pattern.sub(r\"{}\".format(rep_str), test_string)"
   ]
  },
  {
   "cell_type": "code",
   "execution_count": 104,
   "id": "8fdadcb7",
   "metadata": {},
   "outputs": [
    {
     "data": {
      "text/plain": [
       "'rd rd rd'"
      ]
     },
     "execution_count": 104,
     "metadata": {},
     "output_type": "execute_result"
    }
   ],
   "source": [
    "s1 = \"road road road\"\n",
    "abbreviator(s1, \"road\", \"rd\")"
   ]
  },
  {
   "cell_type": "code",
   "execution_count": 105,
   "id": "6fb37284",
   "metadata": {},
   "outputs": [
    {
     "data": {
      "text/plain": [
       "'My name is sam'"
      ]
     },
     "execution_count": 105,
     "metadata": {},
     "output_type": "execute_result"
    }
   ],
   "source": [
    "s2 = \"My name is samiksha\"\n",
    "abbreviator(s2, \"samiksha\", \"sam\")"
   ]
  },
  {
   "cell_type": "markdown",
   "id": "8156231c",
   "metadata": {},
   "source": [
    "### 31. Write a Python program to replace all occurrences of space, comma, or dot with a colon."
   ]
  },
  {
   "cell_type": "code",
   "execution_count": 106,
   "id": "f1ac5c66",
   "metadata": {},
   "outputs": [],
   "source": [
    "def replace_custom1(test_string):\n",
    "    pattern = re.compile(r\"[ \\.,]\")\n",
    "    return pattern.sub(\":\", test_string)"
   ]
  },
  {
   "cell_type": "code",
   "execution_count": 107,
   "id": "0413e214",
   "metadata": {},
   "outputs": [
    {
     "data": {
      "text/plain": [
       "'My:name:is:sampoorna::i:live:in:Nagaland:'"
      ]
     },
     "execution_count": 107,
     "metadata": {},
     "output_type": "execute_result"
    }
   ],
   "source": [
    "s1 = \"My name is sampoorna, i live in Nagaland.\"\n",
    "replace_custom1(s1)"
   ]
  },
  {
   "cell_type": "markdown",
   "id": "78739414",
   "metadata": {},
   "source": [
    "### 32. Write a Python program to replace maximum 2 occurrences of space, comma, or dot with a colon."
   ]
  },
  {
   "cell_type": "code",
   "execution_count": 108,
   "id": "12c2615d",
   "metadata": {},
   "outputs": [],
   "source": [
    "def replace_custom1(test_string):\n",
    "    pattern = re.compile(r\"[ \\.,]\")\n",
    "    return pattern.sub(\":\", test_string, 2)"
   ]
  },
  {
   "cell_type": "code",
   "execution_count": 109,
   "id": "920ab4c3",
   "metadata": {},
   "outputs": [
    {
     "data": {
      "text/plain": [
       "'My:name:is sampoorna, i live in Nagaland.'"
      ]
     },
     "execution_count": 109,
     "metadata": {},
     "output_type": "execute_result"
    }
   ],
   "source": [
    "s1 = \"My name is sampoorna, i live in Nagaland.\"\n",
    "replace_custom1(s1)"
   ]
  },
  {
   "cell_type": "markdown",
   "id": "f1ca5323",
   "metadata": {},
   "source": [
    "### 33. Write a Python program to find all five characters long word in a string."
   ]
  },
  {
   "cell_type": "code",
   "execution_count": 110,
   "id": "6c576678",
   "metadata": {},
   "outputs": [],
   "source": [
    "def word_finder(test_string):\n",
    "    pattern = re.compile(r\"\\b\\w{5}\\b\")\n",
    "    matches = pattern.findall(test_string)\n",
    "    for match in matches:\n",
    "        print(match)"
   ]
  },
  {
   "cell_type": "code",
   "execution_count": 111,
   "id": "89a1e863",
   "metadata": {},
   "outputs": [
    {
     "name": "stdout",
     "output_type": "stream",
     "text": [
      "among\n",
      "teams\n",
      "world\n"
     ]
    }
   ],
   "source": [
    "s1 = \"Uinted States basketball team is best among all the teams in the world\"\n",
    "word_finder(s1)"
   ]
  },
  {
   "cell_type": "markdown",
   "id": "ca2d620a",
   "metadata": {},
   "source": [
    "### 34. Write a Python program to find all three, four, five characters long words in a string"
   ]
  },
  {
   "cell_type": "code",
   "execution_count": 112,
   "id": "4fc25e81",
   "metadata": {},
   "outputs": [],
   "source": [
    "def word_finder1(test_string):\n",
    "    pattern = re.compile(r\"\\b\\w{3,5}\\b\")\n",
    "    matches = pattern.findall(test_string)\n",
    "    for match in matches:\n",
    "        print(match)"
   ]
  },
  {
   "cell_type": "code",
   "execution_count": 113,
   "id": "c9a5812b",
   "metadata": {},
   "outputs": [
    {
     "name": "stdout",
     "output_type": "stream",
     "text": [
      "team\n",
      "best\n",
      "the\n",
      "world\n"
     ]
    }
   ],
   "source": [
    "s1 = \"Uinted States basketball team is best in the world\"\n",
    "word_finder1(s1)"
   ]
  },
  {
   "cell_type": "markdown",
   "id": "48f25f73",
   "metadata": {},
   "source": [
    "### 35. Write a Python program to find all words which are at least 4 characters long in a string."
   ]
  },
  {
   "cell_type": "code",
   "execution_count": 114,
   "id": "bd8a5d97",
   "metadata": {},
   "outputs": [],
   "source": [
    "def word_finder2(test_string):\n",
    "    pattern = re.compile(r\"\\b\\w{4,}\\b\")\n",
    "    matches = pattern.findall(test_string)\n",
    "    for match in matches:\n",
    "        print(match)"
   ]
  },
  {
   "cell_type": "code",
   "execution_count": 115,
   "id": "0d4f37fc",
   "metadata": {},
   "outputs": [
    {
     "name": "stdout",
     "output_type": "stream",
     "text": [
      "Uinted\n",
      "States\n",
      "basketball\n",
      "team\n",
      "best\n",
      "world\n"
     ]
    }
   ],
   "source": [
    "s1 = \"Uinted States basketball team is best in the world\"\n",
    "word_finder2(s1)"
   ]
  },
  {
   "cell_type": "markdown",
   "id": "19f9c5f2",
   "metadata": {},
   "source": [
    "### 36. Write a python program to convert camel case string to snake case string."
   ]
  },
  {
   "cell_type": "code",
   "execution_count": 116,
   "id": "aaae63d7",
   "metadata": {},
   "outputs": [],
   "source": [
    "def camel_to_snake(test_string):\n",
    "    pattern = re.compile(r\"(.)([A-Z][a-z]+)\")\n",
    "    pattern1 = re.compile(r\"([a-z0-9])([A-Z])\")\n",
    "    intermediate = re.sub(pattern, r\"\\1_\\2\", test_string)\n",
    "    return re.sub(pattern1, r\"\\1_\\2\", intermediate).lower()"
   ]
  },
  {
   "cell_type": "code",
   "execution_count": 117,
   "id": "c8fd0820",
   "metadata": {},
   "outputs": [
    {
     "data": {
      "text/plain": [
       "'my_class class_name'"
      ]
     },
     "execution_count": 117,
     "metadata": {},
     "output_type": "execute_result"
    }
   ],
   "source": [
    "s1 = \"myClass className\"\n",
    "camel_to_snake(s1)"
   ]
  },
  {
   "cell_type": "markdown",
   "id": "7766c805",
   "metadata": {},
   "source": [
    "### 37. Write a python program to convert snake case string to camel case string."
   ]
  },
  {
   "cell_type": "code",
   "execution_count": 118,
   "id": "d460943d",
   "metadata": {},
   "outputs": [],
   "source": [
    "def snake_to_camel(test_string):\n",
    "    splits_new = []\n",
    "    test_string = test_string.replace(\" \", \"_\")\n",
    "    splits = test_string.split(\"_\")\n",
    "    for i in splits:\n",
    "        if i != splits[0]:\n",
    "            splits_new.append(i.capitalize())\n",
    "    splits_new.insert(0, splits[0])\n",
    "    camelcase = \"\".join(i for i in splits_new)\n",
    "        \n",
    "    return camelcase"
   ]
  },
  {
   "cell_type": "code",
   "execution_count": 119,
   "id": "7363824b",
   "metadata": {},
   "outputs": [
    {
     "data": {
      "text/plain": [
       "'myClassClassName'"
      ]
     },
     "execution_count": 119,
     "metadata": {},
     "output_type": "execute_result"
    }
   ],
   "source": [
    "s2= \"my_class class_name\"\n",
    "snake_to_camel(s2)"
   ]
  },
  {
   "cell_type": "markdown",
   "id": "0d58326c",
   "metadata": {},
   "source": [
    "### 38. Write a Python program to extract values between quotation marks of a string."
   ]
  },
  {
   "cell_type": "code",
   "execution_count": 120,
   "id": "f3ea6b60",
   "metadata": {},
   "outputs": [],
   "source": [
    "def word_extractor1(test_string):\n",
    "    pattern = re.compile(r\"'(.*?)'\")\n",
    "    matches = pattern.findall(test_string)\n",
    "    for match in matches:\n",
    "        print(match)"
   ]
  },
  {
   "cell_type": "code",
   "execution_count": 121,
   "id": "ea5e1c1d",
   "metadata": {},
   "outputs": [
    {
     "name": "stdout",
     "output_type": "stream",
     "text": [
      "ramesh\n",
      "suresh\n",
      "kamlesh\n"
     ]
    }
   ],
   "source": [
    "s1 = \"'ramesh','suresh','kamlesh'\"\n",
    "word_extractor1(s1)"
   ]
  },
  {
   "cell_type": "code",
   "execution_count": 122,
   "id": "026236f3",
   "metadata": {},
   "outputs": [],
   "source": [
    "def word_extractor2(test_string):\n",
    "    pattern = re.compile(r'\"(.*?)\"')\n",
    "    matches = pattern.findall(test_string)\n",
    "    for match in matches:\n",
    "        print(match)"
   ]
  },
  {
   "cell_type": "code",
   "execution_count": 123,
   "id": "69b44846",
   "metadata": {},
   "outputs": [
    {
     "name": "stdout",
     "output_type": "stream",
     "text": [
      "ramesh\n",
      "suresh\n",
      "kamlesh\n"
     ]
    }
   ],
   "source": [
    "s1 = '\"ramesh\",\"suresh\",\"kamlesh\"'\n",
    "word_extractor2(s1)"
   ]
  },
  {
   "cell_type": "markdown",
   "id": "9f0b4a13",
   "metadata": {},
   "source": [
    "### 39. Write a Python program to remove multiple spaces in a string."
   ]
  },
  {
   "cell_type": "code",
   "execution_count": 124,
   "id": "5ce843eb",
   "metadata": {},
   "outputs": [],
   "source": [
    "def whitespace_remover(test_string):\n",
    "    pattern = re.compile(r\" +\")\n",
    "    return pattern.sub(\" \", test_string)"
   ]
  },
  {
   "cell_type": "code",
   "execution_count": 125,
   "id": "955eb880",
   "metadata": {},
   "outputs": [
    {
     "data": {
      "text/plain": [
       "'my name is Smarnika'"
      ]
     },
     "execution_count": 125,
     "metadata": {},
     "output_type": "execute_result"
    }
   ],
   "source": [
    "s1 = \"my      name    is     Smarnika\"\n",
    "whitespace_remover(s1)"
   ]
  },
  {
   "cell_type": "markdown",
   "id": "2a2208db",
   "metadata": {},
   "source": [
    "### 40. Write a Python program to remove all whitespaces from a string."
   ]
  },
  {
   "cell_type": "code",
   "execution_count": 126,
   "id": "3f68ca48",
   "metadata": {},
   "outputs": [],
   "source": [
    "def all_space_remover(test_string):\n",
    "    pattern = re.compile(r\" {0,}\")\n",
    "    return pattern.sub(\"\", test_string)"
   ]
  },
  {
   "cell_type": "code",
   "execution_count": 127,
   "id": "3de8d089",
   "metadata": {},
   "outputs": [
    {
     "data": {
      "text/plain": [
       "'mynameisSmarnika'"
      ]
     },
     "execution_count": 127,
     "metadata": {},
     "output_type": "execute_result"
    }
   ],
   "source": [
    "s1 = \"my name is Smarnika\"\n",
    "all_space_remover(s1)"
   ]
  },
  {
   "cell_type": "markdown",
   "id": "f56b5864",
   "metadata": {},
   "source": [
    "### 41. Write a Python program to remove everything except alphanumeric characters from a string."
   ]
  },
  {
   "cell_type": "code",
   "execution_count": 128,
   "id": "2d7873be",
   "metadata": {},
   "outputs": [],
   "source": [
    "def custom_remover_everything(test_string):\n",
    "    pattern = re.compile(r\"[\\W_]+\")\n",
    "    return pattern.sub(\"\", test_string)"
   ]
  },
  {
   "cell_type": "code",
   "execution_count": 129,
   "id": "6f2cad7f",
   "metadata": {},
   "outputs": [
    {
     "data": {
      "text/plain": [
       "'mynameisSmarnika384728397'"
      ]
     },
     "execution_count": 129,
     "metadata": {},
     "output_type": "execute_result"
    }
   ],
   "source": [
    "s1 = \"**??my name is__ Smarnika___384728397??**\"\n",
    "custom_remover_everything(s1)"
   ]
  },
  {
   "cell_type": "markdown",
   "id": "789f120f",
   "metadata": {},
   "source": [
    "### 42. Write a Python program to find urls in a string."
   ]
  },
  {
   "cell_type": "code",
   "execution_count": 130,
   "id": "6d5aa06d",
   "metadata": {},
   "outputs": [],
   "source": [
    "def url_extractor(test_string):\n",
    "    pattern = re.compile(r\"http[s]?://(?:[a-zA-Z]|[0-9]|[$-_@.&+]|[!*\\(\\),]|(?:%[0-9a-fA-F][0-9a-fA-F]))+\")\n",
    "    return pattern.findall(test_string)"
   ]
  },
  {
   "cell_type": "code",
   "execution_count": 131,
   "id": "02f18d5e",
   "metadata": {},
   "outputs": [
    {
     "data": {
      "text/plain": [
       "['https://www.pavithran.net/disha-publication-books-pdf/',\n",
       " 'https://nicsdtcnagpur.swagatam.gov.in/PublicSite/Login.aspx']"
      ]
     },
     "execution_count": 131,
     "metadata": {},
     "output_type": "execute_result"
    }
   ],
   "source": [
    "s1 = \"https://www.pavithran.net/disha-publication-books-pdf/ https://nicsdtcnagpur.swagatam.gov.in/PublicSite/Login.aspx\"\n",
    "url_extractor(s1)"
   ]
  },
  {
   "cell_type": "markdown",
   "id": "5252462e",
   "metadata": {},
   "source": [
    "### 43. Write a Python program to split a string at uppercase letters."
   ]
  },
  {
   "cell_type": "code",
   "execution_count": 132,
   "id": "2d474dc1",
   "metadata": {},
   "outputs": [],
   "source": [
    "def upper_split(test_string):\n",
    "    pattern = re.compile(r\"[A-Z][^A-Z]*\")\n",
    "    return pattern.findall(test_string)"
   ]
  },
  {
   "cell_type": "code",
   "execution_count": 133,
   "id": "1f15fb7b",
   "metadata": {},
   "outputs": [
    {
     "data": {
      "text/plain": [
       "['My', 'Name', 'Is', 'Mr.', 'T']"
      ]
     },
     "execution_count": 133,
     "metadata": {},
     "output_type": "execute_result"
    }
   ],
   "source": [
    "s1 = \"MyNameIsMr.T\"\n",
    "upper_split(s1)"
   ]
  },
  {
   "cell_type": "markdown",
   "id": "855c84ec",
   "metadata": {},
   "source": [
    "### 44. Write a Python program to do a case-insensitive string replacement."
   ]
  },
  {
   "cell_type": "code",
   "execution_count": 134,
   "id": "a896242a",
   "metadata": {},
   "outputs": [],
   "source": [
    "def case_insensitive_replacement(test_string, word, replace_word):\n",
    "    pattern = re.compile(r\"{}\".format(word), re.IGNORECASE) \n",
    "    return pattern.sub(replace_word, test_string)"
   ]
  },
  {
   "cell_type": "code",
   "execution_count": 135,
   "id": "da807c86",
   "metadata": {},
   "outputs": [
    {
     "data": {
      "text/plain": [
       "'Hello Planet'"
      ]
     },
     "execution_count": 135,
     "metadata": {},
     "output_type": "execute_result"
    }
   ],
   "source": [
    "s1 = \"Hello World\"\n",
    "case_insensitive_replacement(s1, \"world\", \"Planet\")"
   ]
  },
  {
   "cell_type": "markdown",
   "id": "d593e47a",
   "metadata": {},
   "source": [
    "### 45. Write a Python program to remove the ANSI escape sequences from a string."
   ]
  },
  {
   "cell_type": "code",
   "execution_count": 136,
   "id": "1ddc10d6",
   "metadata": {},
   "outputs": [],
   "source": [
    "def remove_ANSI_escape_sequence(test_string):\n",
    "    pattern = re.compile(r'\\x1b[^m]*m')\n",
    "    return pattern.sub(\"\", test_string)"
   ]
  },
  {
   "cell_type": "code",
   "execution_count": 137,
   "id": "8449a497",
   "metadata": {},
   "outputs": [
    {
     "data": {
      "text/plain": [
       "'\\tgoogle.com 216.58.218.206'"
      ]
     },
     "execution_count": 137,
     "metadata": {},
     "output_type": "execute_result"
    }
   ],
   "source": [
    "s1 = \"\\t\\u001b[0;35mgoogle.com\\u001b[0m \\u001b[0;36m216.58.218.206\\u001b[0m\"\n",
    "remove_ANSI_escape_sequence(s1)"
   ]
  },
  {
   "cell_type": "markdown",
   "id": "66473b6a",
   "metadata": {},
   "source": [
    "### 46. Write a Python program to find all adverbs and their positions in a given sentence."
   ]
  },
  {
   "cell_type": "code",
   "execution_count": 138,
   "id": "d6e882ae",
   "metadata": {},
   "outputs": [],
   "source": [
    "def adverb_locator(test_string):\n",
    "    pattern = re.compile(r\"\\w+ly\")\n",
    "    matches = pattern.finditer(test_string)\n",
    "    for match in matches:\n",
    "        start_position = match.start()\n",
    "        end_position = match.end()\n",
    "        return \"Adverb: {}, position({}, {})\".format(match.group(), start_position, end_position)"
   ]
  },
  {
   "cell_type": "code",
   "execution_count": 139,
   "id": "937aefa4",
   "metadata": {},
   "outputs": [
    {
     "data": {
      "text/plain": [
       "'Adverb: early, position(18, 23)'"
      ]
     },
     "execution_count": 139,
     "metadata": {},
     "output_type": "execute_result"
    }
   ],
   "source": [
    "s1 = \"My friend arrived early\"\n",
    "adverb_locator(s1)"
   ]
  },
  {
   "cell_type": "markdown",
   "id": "d29fed1e",
   "metadata": {},
   "source": [
    "### 47. Write a Python program to split a string with multiple delimiters.\n",
    "Note : A delimiter is a sequence of one or more characters used to specify the boundary between separate, independent regions in plain text or other data streams. An example of a delimiter is the comma character, which acts as a field delimiter in a sequence of comma-separated values."
   ]
  },
  {
   "cell_type": "code",
   "execution_count": 140,
   "id": "a958be59",
   "metadata": {},
   "outputs": [],
   "source": [
    "def split_at_delimiter(test_string):\n",
    "    pattern = re.compile(r\"; |,|:|\\*|\\n\")\n",
    "    return pattern.split(test_string)"
   ]
  },
  {
   "cell_type": "code",
   "execution_count": 141,
   "id": "8929ac18",
   "metadata": {},
   "outputs": [
    {
     "data": {
      "text/plain": [
       "['Stephen', ' curry', 'is ', 'best shooter', 'in NBA']"
      ]
     },
     "execution_count": 141,
     "metadata": {},
     "output_type": "execute_result"
    }
   ],
   "source": [
    "s1 = \"Stephen, curry:is \\nbest shooter; in NBA\"\n",
    "split_at_delimiter(s1)"
   ]
  },
  {
   "cell_type": "markdown",
   "id": "efadab3b",
   "metadata": {},
   "source": [
    "### 48. Write a Python program to check a decimal with a precision of 2."
   ]
  },
  {
   "cell_type": "code",
   "execution_count": 142,
   "id": "9ed82d03",
   "metadata": {},
   "outputs": [],
   "source": [
    "def decimal_checker(test_string):\n",
    "    pattern = re.compile(r\"^[0-9]*(\\.[0-9]{1,2})$\")\n",
    "    return bool(pattern.search(test_string))"
   ]
  },
  {
   "cell_type": "code",
   "execution_count": 143,
   "id": "e0c00f92",
   "metadata": {},
   "outputs": [
    {
     "data": {
      "text/plain": [
       "True"
      ]
     },
     "execution_count": 143,
     "metadata": {},
     "output_type": "execute_result"
    }
   ],
   "source": [
    "s1 = \"123.23\"\n",
    "decimal_checker(s1)"
   ]
  },
  {
   "cell_type": "code",
   "execution_count": 144,
   "id": "d5959eb7",
   "metadata": {},
   "outputs": [
    {
     "data": {
      "text/plain": [
       "True"
      ]
     },
     "execution_count": 144,
     "metadata": {},
     "output_type": "execute_result"
    }
   ],
   "source": [
    "s2 = \".23\"\n",
    "decimal_checker(s2)"
   ]
  },
  {
   "cell_type": "code",
   "execution_count": 145,
   "id": "08af89b6",
   "metadata": {},
   "outputs": [
    {
     "data": {
      "text/plain": [
       "True"
      ]
     },
     "execution_count": 145,
     "metadata": {},
     "output_type": "execute_result"
    }
   ],
   "source": [
    "s3 = \"123.2\"\n",
    "decimal_checker(s3)"
   ]
  },
  {
   "cell_type": "code",
   "execution_count": 146,
   "id": "3036b197",
   "metadata": {},
   "outputs": [
    {
     "data": {
      "text/plain": [
       "False"
      ]
     },
     "execution_count": 146,
     "metadata": {},
     "output_type": "execute_result"
    }
   ],
   "source": [
    "s4 = \"123\"\n",
    "decimal_checker(s4)"
   ]
  },
  {
   "cell_type": "markdown",
   "id": "fc1ef7b4",
   "metadata": {},
   "source": [
    "### 49. Write a Python program to remove words from a string of length between 1 and a given number."
   ]
  },
  {
   "cell_type": "code",
   "execution_count": 147,
   "id": "e658bee6",
   "metadata": {},
   "outputs": [],
   "source": [
    "def words_remover_custom(test_string):\n",
    "    pattern = re.compile(r\"\\W*\\b\\w{1,4}\\b\")\n",
    "    return pattern.sub(\"\", test_string)"
   ]
  },
  {
   "cell_type": "code",
   "execution_count": 148,
   "id": "d8309d46",
   "metadata": {},
   "outputs": [
    {
     "data": {
      "text/plain": [
       "' Smarinka Sahoo'"
      ]
     },
     "execution_count": 148,
     "metadata": {},
     "output_type": "execute_result"
    }
   ],
   "source": [
    "s1 = \"My name is Smarinka Sahoo\"\n",
    "words_remover_custom(s1)"
   ]
  },
  {
   "cell_type": "markdown",
   "id": "e7212443",
   "metadata": {},
   "source": [
    "### 50. Write a Python program to remove the parenthesis area in a string."
   ]
  },
  {
   "cell_type": "code",
   "execution_count": 149,
   "id": "c67843f4",
   "metadata": {},
   "outputs": [],
   "source": [
    "def parenthesis_remover(test_string):\n",
    "    pattern = re.compile(r\" ?\\([^)]+\\)\")\n",
    "    return pattern.sub(\"\",test_string)"
   ]
  },
  {
   "cell_type": "code",
   "execution_count": 150,
   "id": "1e512d69",
   "metadata": {},
   "outputs": [
    {
     "data": {
      "text/plain": [
       "'my name is'"
      ]
     },
     "execution_count": 150,
     "metadata": {},
     "output_type": "execute_result"
    }
   ],
   "source": [
    "s1 = \"my name is (smarnika)\"\n",
    "parenthesis_remover(s1)"
   ]
  },
  {
   "cell_type": "markdown",
   "id": "d40778b7",
   "metadata": {},
   "source": [
    "### 51. Write a Python program to insert spaces between words starting with capital letters and convert output into sentence case."
   ]
  },
  {
   "cell_type": "code",
   "execution_count": 151,
   "id": "530462a6",
   "metadata": {},
   "outputs": [],
   "source": [
    "def insert_space_custom(test_string):\n",
    "    pattern = re.compile(r\"(\\w)([A-Z])\")\n",
    "    return pattern.sub(r\"\\1 \\2\", test_string).capitalize()"
   ]
  },
  {
   "cell_type": "code",
   "execution_count": 152,
   "id": "0f8523ce",
   "metadata": {},
   "outputs": [
    {
     "data": {
      "text/plain": [
       "'My name is smarnika'"
      ]
     },
     "execution_count": 152,
     "metadata": {},
     "output_type": "execute_result"
    }
   ],
   "source": [
    "s1 = \"MyNameIsSmarnika\"\n",
    "insert_space_custom(s1)"
   ]
  }
 ],
 "metadata": {
  "kernelspec": {
   "display_name": "Python 3 (ipykernel)",
   "language": "python",
   "name": "python3"
  },
  "language_info": {
   "codemirror_mode": {
    "name": "ipython",
    "version": 3
   },
   "file_extension": ".py",
   "mimetype": "text/x-python",
   "name": "python",
   "nbconvert_exporter": "python",
   "pygments_lexer": "ipython3",
   "version": "3.9.13"
  }
 },
 "nbformat": 4,
 "nbformat_minor": 5
}
